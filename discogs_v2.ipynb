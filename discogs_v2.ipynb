{
 "cells": [
  {
   "cell_type": "code",
   "execution_count": 8,
   "metadata": {
    "pycharm": {
     "name": "#%%\n"
    }
   },
   "outputs": [
    {
     "name": "stdout",
     "output_type": "stream",
     "text": [
      "Collecting python3-discogs-clientNote: you may need to restart the kernel to use updated packages.\n",
      "\n",
      "  Downloading python3_discogs_client-2.3.14-py3-none-any.whl (15 kB)\n",
      "Requirement already satisfied: python-dateutil in c:\\users\\river\\documents\\transparence\\discogs_project\\venv\\lib\\site-packages (from python3-discogs-client) (2.8.2)\n",
      "Collecting requests\n",
      "  Downloading requests-2.27.1-py2.py3-none-any.whl (63 kB)\n",
      "Collecting oauthlib\n",
      "  Downloading oauthlib-3.2.0-py3-none-any.whl (151 kB)\n",
      "Requirement already satisfied: six>=1.5 in c:\\users\\river\\documents\\transparence\\discogs_project\\venv\\lib\\site-packages (from python-dateutil->python3-discogs-client) (1.16.0)\n",
      "Collecting idna<4,>=2.5\n",
      "  Downloading idna-3.3-py3-none-any.whl (61 kB)\n",
      "Collecting charset-normalizer~=2.0.0\n",
      "  Downloading charset_normalizer-2.0.12-py3-none-any.whl (39 kB)\n",
      "Collecting certifi>=2017.4.17\n",
      "  Downloading certifi-2022.5.18.1-py3-none-any.whl (155 kB)\n",
      "Collecting urllib3<1.27,>=1.21.1\n",
      "  Downloading urllib3-1.26.9-py2.py3-none-any.whl (138 kB)\n",
      "Installing collected packages: urllib3, idna, charset-normalizer, certifi, requests, oauthlib, python3-discogs-client\n",
      "Successfully installed certifi-2022.5.18.1 charset-normalizer-2.0.12 idna-3.3 oauthlib-3.2.0 python3-discogs-client-2.3.14 requests-2.27.1 urllib3-1.26.9\n"
     ]
    },
    {
     "name": "stderr",
     "output_type": "stream",
     "text": [
      "WARNING: You are using pip version 21.1.2; however, version 22.1.2 is available.\n",
      "You should consider upgrading via the 'c:\\users\\river\\documents\\transparence\\discogs_project\\venv\\scripts\\python.exe -m pip install --upgrade pip' command.\n"
     ]
    }
   ],
   "source": [
    "pip install python3-discogs-client"
   ]
  },
  {
   "cell_type": "code",
   "execution_count": 1,
   "outputs": [],
   "source": [
    "import discogs_client"
   ],
   "metadata": {
    "collapsed": false,
    "pycharm": {
     "name": "#%%\n"
    }
   }
  },
  {
   "cell_type": "code",
   "execution_count": 2,
   "metadata": {
    "pycharm": {
     "name": "#%%\n"
    }
   },
   "outputs": [],
   "source": [
    "d = discogs_client.Client('river_agent/1.1', user_token='qtIjahdmzFABMsZpAlcCOiwenwKlCJHzVJeAJoXt')"
   ]
  },
  {
   "cell_type": "code",
   "execution_count": 7,
   "outputs": [],
   "source": [
    "class MyTrack:\n",
    "    \"\"\"\n",
    "    One Instance represents one row in the final excel table.\n",
    "    \"\"\"\n",
    "    def __init__(self, title, album, posi):\n",
    "        self.title = title\n",
    "        self.track_artist = set()\n",
    "        self.album = album\n",
    "        self.labels = set()\n",
    "        self.release_year = set()\n",
    "        self.instruments = set()\n",
    "        self.genre = set()\n",
    "        self.format = set()\n",
    "        self.countries_of_release = set()\n",
    "        self.catalog_numbers = set()\n",
    "        self.requires_manual_check = False\n",
    "        self.id_str = title + \" in \" + album\n",
    "        self.url = None\n",
    "        self.position = posi\n",
    "        self.track_specific_info = set()"
   ],
   "metadata": {
    "collapsed": false,
    "pycharm": {
     "name": "#%%\n"
    }
   }
  },
  {
   "cell_type": "code",
   "execution_count": 4,
   "outputs": [],
   "source": [
    "class MyAlbum:\n",
    "    def __init__(self, title):\n",
    "        self.album_title = title\n",
    "        self.track_specific_info = set()\n",
    "        self.tracklist = []\n",
    "        self.version_ids = set()"
   ],
   "metadata": {
    "collapsed": false,
    "pycharm": {
     "name": "#%%\n"
    }
   }
  },
  {
   "cell_type": "code",
   "execution_count": 5,
   "outputs": [],
   "source": [
    "# 108475 is the artist id for Greg Phillinganes.\n",
    "greg = d.artist(108475)\n",
    "# All the releases/masters related to Greg Phillinganes.\n",
    "greg_rel = greg.releases\n",
    "# The release list can be paginated\n",
    "greg_rel_page1 = greg_rel.page(0)\n",
    "greg_rel_page5 = greg_rel.page(5)\n"
   ],
   "metadata": {
    "collapsed": false,
    "pycharm": {
     "name": "#%%\n"
    }
   }
  },
  {
   "cell_type": "code",
   "execution_count": 5,
   "outputs": [
    {
     "name": "stdout",
     "output_type": "stream",
     "text": [
      "['Funk It (Funkadelala)', 'The Real Thing', 'Stomp!']\n",
      "[\"I'm So Excited\", 'See How The Love Goes', 'All Of You', 'Heartbeat', 'If You Wanna Get Back Your Lady', 'I Feel For You', 'Heart To Heart', 'American Music', 'Heart Beat', \"I'm So Excited = Estoy Tan Exitada\", 'See How The Love Goes = Mira Como Va El Amor', 'All Of You = Todo Tú', 'Heartbeat = Latidos', 'If You Wanna Get Back Your Lady = Si Quieres Recuperar Tu Dama', 'I Feel For You = Siento Para Ti', 'Heart To Heart = Corazón A Corazón ', 'American Music = Música Americana', \"Estoy Tan Entusiasmada = I'm So Excited\", 'Mira Como Va El Amor = See How The Love Goes', 'Todo de Vos = All Of You', 'Latido Del Corazon = Heartbeat', 'Si Quiere Volver A Tener Tu Dama = If You Wanna Get Back Your Lady', 'Yo Siento Por Vos = I Feel For You', 'Corazon A Corazon = Heart To Heart', 'Musica Americana = American Music', 'Estoy Tan Emocionada', 'Mira Como Va El Amor', 'Todo De Ti', 'Latido Del Corazon', 'Si Quieres Regresar A Tu Dama', 'Siento Por Ti', 'Corazon A Corazon', 'Musica Americana', 'Bonus Tracks', 'I\\'m So Excited (12\" Remix)', 'If You Wanna Get Back Your Lady (12\" Remix)', 'See How the Love Goes', \"Someday We'll Be Together\", 'Take My Heart Take My Soul', 'The Love Too Good To Last', 'Bad']\n",
      "[\"Lettin' It Loose\", 'State To State', 'Look After Love', 'Naturally', 'The Big Guns', 'Find It In Your Heart', 'Hold On To The One', 'Mind What You Find', 'Lettin\\' It Loose (12\" Version)', 'Bonus Tracks', 'Look After Love (Single Version)', 'Mind What You Find (12\" Version)']\n",
      "['Cross My Heart', 'Promises, Promises', \"Dreamwalkin' (Along With You)\", 'Keep It Alive', 'A Fantasy', 'Tied Up', 'Voices', 'On The Boardwalk', 'Road Runner', 'Malibu', \"Dreamwalkin' (Along With Me)\", 'Save This Love', \"Dreamwalkin'\", 'Tied Up (In Promises)', 'Roadrunner', 'Dreamwalkin´ (Along With You)']\n",
      "['Right From The Start', 'The Gigolo', \"Can't Live Without Your Love\"]\n",
      "['Stop Look And Listen']\n",
      "[\"Don't Stop 'Til You Get Enough\"]\n"
     ]
    },
    {
     "ename": "KeyboardInterrupt",
     "evalue": "",
     "output_type": "error",
     "traceback": [
      "\u001B[1;31m---------------------------------------------------------------------------\u001B[0m",
      "\u001B[1;31mKeyboardInterrupt\u001B[0m                         Traceback (most recent call last)",
      "Input \u001B[1;32mIn [5]\u001B[0m, in \u001B[0;36m<cell line: 172>\u001B[1;34m()\u001B[0m\n\u001B[0;32m    178\u001B[0m     \u001B[38;5;66;03m# Then we iterate through other versions, mainly to collect new Countries of Release, Catalog #, Year,\u001B[39;00m\n\u001B[0;32m    179\u001B[0m     \u001B[38;5;28;01mfor\u001B[39;00m version_entry \u001B[38;5;129;01min\u001B[39;00m cur_rel\u001B[38;5;241m.\u001B[39mversions:\n\u001B[1;32m--> 180\u001B[0m         \u001B[43mupdate_from_other_release_version\u001B[49m\u001B[43m(\u001B[49m\u001B[43mversion_entry\u001B[49m\u001B[43m,\u001B[49m\u001B[43m \u001B[49m\u001B[43mtrack_names\u001B[49m\u001B[43m,\u001B[49m\u001B[43m \u001B[49m\u001B[43mshould_update_all\u001B[49m\u001B[43m,\u001B[49m\u001B[43m \u001B[49m\u001B[43mmain_release_tmp\u001B[49m\u001B[38;5;241;43m.\u001B[39;49m\u001B[43mtitle\u001B[49m\u001B[38;5;241;43m.\u001B[39;49m\u001B[43mstrip\u001B[49m\u001B[43m(\u001B[49m\u001B[43m)\u001B[49m\u001B[43m)\u001B[49m\n\u001B[0;32m    181\u001B[0m \u001B[38;5;28;01melse\u001B[39;00m:\n\u001B[0;32m    182\u001B[0m     track_names \u001B[38;5;241m=\u001B[39m get_info_from_release(cur_rel, cur_rel\u001B[38;5;241m.\u001B[39mtitle\u001B[38;5;241m.\u001B[39mstrip())\n",
      "Input \u001B[1;32mIn [5]\u001B[0m, in \u001B[0;36mupdate_from_other_release_version\u001B[1;34m(cur_release, track_title_list, update_all, main_release_name)\u001B[0m\n\u001B[0;32m    157\u001B[0m is_release_main_artist \u001B[38;5;241m=\u001B[39m \u001B[38;5;28;01mFalse\u001B[39;00m\n\u001B[0;32m    158\u001B[0m is_in_credits \u001B[38;5;241m=\u001B[39m \u001B[38;5;28;01mFalse\u001B[39;00m\n\u001B[1;32m--> 159\u001B[0m \u001B[38;5;28;01mif\u001B[39;00m greg \u001B[38;5;129;01min\u001B[39;00m \u001B[43mcur_release\u001B[49m\u001B[38;5;241;43m.\u001B[39;49m\u001B[43martists\u001B[49m:\n\u001B[0;32m    160\u001B[0m     is_release_main_artist \u001B[38;5;241m=\u001B[39m \u001B[38;5;28;01mTrue\u001B[39;00m\n\u001B[0;32m    161\u001B[0m \u001B[38;5;28;01mif\u001B[39;00m greg \u001B[38;5;129;01min\u001B[39;00m cur_release\u001B[38;5;241m.\u001B[39mcredits:\n",
      "File \u001B[1;32mc:\\users\\river\\documents\\transparence\\discogs_project\\venv\\lib\\site-packages\\discogs_client\\models.py:96\u001B[0m, in \u001B[0;36mListFieldDescriptor.__get__\u001B[1;34m(self, instance, owner)\u001B[0m\n\u001B[0;32m     94\u001B[0m     \u001B[38;5;28;01mreturn\u001B[39;00m \u001B[38;5;28mself\u001B[39m\n\u001B[0;32m     95\u001B[0m wrapper_class \u001B[38;5;241m=\u001B[39m CLASS_MAP[\u001B[38;5;28mself\u001B[39m\u001B[38;5;241m.\u001B[39mclass_name\u001B[38;5;241m.\u001B[39mlower()]\n\u001B[1;32m---> 96\u001B[0m \u001B[38;5;28;01mreturn\u001B[39;00m [wrapper_class(instance\u001B[38;5;241m.\u001B[39mclient, d) \u001B[38;5;28;01mfor\u001B[39;00m d \u001B[38;5;129;01min\u001B[39;00m \u001B[43minstance\u001B[49m\u001B[38;5;241;43m.\u001B[39;49m\u001B[43mfetch\u001B[49m\u001B[43m(\u001B[49m\u001B[38;5;28;43mself\u001B[39;49m\u001B[38;5;241;43m.\u001B[39;49m\u001B[43mname\u001B[49m\u001B[43m,\u001B[49m\u001B[43m \u001B[49m\u001B[43m[\u001B[49m\u001B[43m]\u001B[49m\u001B[43m)\u001B[49m]\n",
      "File \u001B[1;32mc:\\users\\river\\documents\\transparence\\discogs_project\\venv\\lib\\site-packages\\discogs_client\\models.py:237\u001B[0m, in \u001B[0;36mPrimaryAPIObject.fetch\u001B[1;34m(self, key, default)\u001B[0m\n\u001B[0;32m    233\u001B[0m     \u001B[38;5;28;01mpass\u001B[39;00m\n\u001B[0;32m    235\u001B[0m \u001B[38;5;66;03m# Now refresh the object from its resource_url.\u001B[39;00m\n\u001B[0;32m    236\u001B[0m \u001B[38;5;66;03m# The key might exist but not be in our cache.\u001B[39;00m\n\u001B[1;32m--> 237\u001B[0m \u001B[38;5;28;43mself\u001B[39;49m\u001B[38;5;241;43m.\u001B[39;49m\u001B[43mrefresh\u001B[49m\u001B[43m(\u001B[49m\u001B[43m)\u001B[49m\n\u001B[0;32m    239\u001B[0m \u001B[38;5;28;01mtry\u001B[39;00m:\n\u001B[0;32m    240\u001B[0m     \u001B[38;5;28;01mreturn\u001B[39;00m \u001B[38;5;28mself\u001B[39m\u001B[38;5;241m.\u001B[39mdata[key]\n",
      "File \u001B[1;32mc:\\users\\river\\documents\\transparence\\discogs_project\\venv\\lib\\site-packages\\discogs_client\\models.py:203\u001B[0m, in \u001B[0;36mPrimaryAPIObject.refresh\u001B[1;34m(self)\u001B[0m\n\u001B[0;32m    201\u001B[0m \u001B[38;5;28;01mdef\u001B[39;00m \u001B[38;5;21mrefresh\u001B[39m(\u001B[38;5;28mself\u001B[39m):\n\u001B[0;32m    202\u001B[0m     \u001B[38;5;28;01mif\u001B[39;00m \u001B[38;5;28mself\u001B[39m\u001B[38;5;241m.\u001B[39mdata\u001B[38;5;241m.\u001B[39mget(\u001B[38;5;124m'\u001B[39m\u001B[38;5;124mresource_url\u001B[39m\u001B[38;5;124m'\u001B[39m):\n\u001B[1;32m--> 203\u001B[0m         data \u001B[38;5;241m=\u001B[39m \u001B[38;5;28;43mself\u001B[39;49m\u001B[38;5;241;43m.\u001B[39;49m\u001B[43mclient\u001B[49m\u001B[38;5;241;43m.\u001B[39;49m\u001B[43m_get\u001B[49m\u001B[43m(\u001B[49m\u001B[38;5;28;43mself\u001B[39;49m\u001B[38;5;241;43m.\u001B[39;49m\u001B[43mdata\u001B[49m\u001B[43m[\u001B[49m\u001B[38;5;124;43m'\u001B[39;49m\u001B[38;5;124;43mresource_url\u001B[39;49m\u001B[38;5;124;43m'\u001B[39;49m\u001B[43m]\u001B[49m\u001B[43m)\u001B[49m\n\u001B[0;32m    204\u001B[0m         \u001B[38;5;28mself\u001B[39m\u001B[38;5;241m.\u001B[39mdata\u001B[38;5;241m.\u001B[39mupdate(data)\n\u001B[0;32m    205\u001B[0m         \u001B[38;5;28mself\u001B[39m\u001B[38;5;241m.\u001B[39mchanges \u001B[38;5;241m=\u001B[39m {}\n",
      "File \u001B[1;32mc:\\users\\river\\documents\\transparence\\discogs_project\\venv\\lib\\site-packages\\discogs_client\\client.py:113\u001B[0m, in \u001B[0;36mClient._get\u001B[1;34m(self, url)\u001B[0m\n\u001B[0;32m    112\u001B[0m \u001B[38;5;28;01mdef\u001B[39;00m \u001B[38;5;21m_get\u001B[39m(\u001B[38;5;28mself\u001B[39m, url):\n\u001B[1;32m--> 113\u001B[0m     \u001B[38;5;28;01mreturn\u001B[39;00m \u001B[38;5;28;43mself\u001B[39;49m\u001B[38;5;241;43m.\u001B[39;49m\u001B[43m_request\u001B[49m\u001B[43m(\u001B[49m\u001B[38;5;124;43m'\u001B[39;49m\u001B[38;5;124;43mGET\u001B[39;49m\u001B[38;5;124;43m'\u001B[39;49m\u001B[43m,\u001B[49m\u001B[43m \u001B[49m\u001B[43murl\u001B[49m\u001B[43m)\u001B[49m\n",
      "File \u001B[1;32mc:\\users\\river\\documents\\transparence\\discogs_project\\venv\\lib\\site-packages\\discogs_client\\client.py:100\u001B[0m, in \u001B[0;36mClient._request\u001B[1;34m(self, method, url, data)\u001B[0m\n\u001B[0;32m     97\u001B[0m \u001B[38;5;28;01mif\u001B[39;00m data:\n\u001B[0;32m     98\u001B[0m     headers[\u001B[38;5;124m'\u001B[39m\u001B[38;5;124mContent-Type\u001B[39m\u001B[38;5;124m'\u001B[39m] \u001B[38;5;241m=\u001B[39m \u001B[38;5;124m'\u001B[39m\u001B[38;5;124mapplication/json\u001B[39m\u001B[38;5;124m'\u001B[39m\n\u001B[1;32m--> 100\u001B[0m content, status_code \u001B[38;5;241m=\u001B[39m \u001B[38;5;28;43mself\u001B[39;49m\u001B[38;5;241;43m.\u001B[39;49m\u001B[43m_fetcher\u001B[49m\u001B[38;5;241;43m.\u001B[39;49m\u001B[43mfetch\u001B[49m\u001B[43m(\u001B[49m\u001B[38;5;28;43mself\u001B[39;49m\u001B[43m,\u001B[49m\u001B[43m \u001B[49m\u001B[43mmethod\u001B[49m\u001B[43m,\u001B[49m\u001B[43m \u001B[49m\u001B[43murl\u001B[49m\u001B[43m,\u001B[49m\u001B[43m \u001B[49m\u001B[43mdata\u001B[49m\u001B[38;5;241;43m=\u001B[39;49m\u001B[43mdata\u001B[49m\u001B[43m,\u001B[49m\u001B[43m \u001B[49m\u001B[43mheaders\u001B[49m\u001B[38;5;241;43m=\u001B[39;49m\u001B[43mheaders\u001B[49m\u001B[43m)\u001B[49m\n\u001B[0;32m    102\u001B[0m \u001B[38;5;28;01mif\u001B[39;00m status_code \u001B[38;5;241m==\u001B[39m \u001B[38;5;241m204\u001B[39m:\n\u001B[0;32m    103\u001B[0m     \u001B[38;5;28;01mreturn\u001B[39;00m \u001B[38;5;28;01mNone\u001B[39;00m\n",
      "File \u001B[1;32mc:\\users\\river\\documents\\transparence\\discogs_project\\venv\\lib\\site-packages\\discogs_client\\fetchers.py:144\u001B[0m, in \u001B[0;36mUserTokenRequestsFetcher.fetch\u001B[1;34m(self, client, method, url, data, headers, json_format)\u001B[0m\n\u001B[0;32m    118\u001B[0m \u001B[38;5;124;03m\"\"\"Fetch the given request on the user's behalf\u001B[39;00m\n\u001B[0;32m    119\u001B[0m \n\u001B[0;32m    120\u001B[0m \u001B[38;5;124;03mParameters\u001B[39;00m\n\u001B[1;32m   (...)\u001B[0m\n\u001B[0;32m    141\u001B[0m \u001B[38;5;124;03m    as returned by Python \"Requests\"\u001B[39;00m\n\u001B[0;32m    142\u001B[0m \u001B[38;5;124;03m\"\"\"\u001B[39;00m\n\u001B[0;32m    143\u001B[0m data \u001B[38;5;241m=\u001B[39m json\u001B[38;5;241m.\u001B[39mdumps(data) \u001B[38;5;28;01mif\u001B[39;00m json_format \u001B[38;5;129;01mand\u001B[39;00m data \u001B[38;5;28;01melse\u001B[39;00m data\n\u001B[1;32m--> 144\u001B[0m resp \u001B[38;5;241m=\u001B[39m \u001B[38;5;28;43mself\u001B[39;49m\u001B[38;5;241;43m.\u001B[39;49m\u001B[43mrequest\u001B[49m\u001B[43m(\u001B[49m\n\u001B[0;32m    145\u001B[0m \u001B[43m    \u001B[49m\u001B[43mmethod\u001B[49m\u001B[43m,\u001B[49m\u001B[43m \u001B[49m\u001B[43murl\u001B[49m\u001B[43m,\u001B[49m\u001B[43m \u001B[49m\u001B[43mdata\u001B[49m\u001B[38;5;241;43m=\u001B[39;49m\u001B[43mdata\u001B[49m\u001B[43m,\u001B[49m\u001B[43m \u001B[49m\u001B[43mheaders\u001B[49m\u001B[38;5;241;43m=\u001B[39;49m\u001B[43mheaders\u001B[49m\u001B[43m,\u001B[49m\u001B[43m \u001B[49m\u001B[43mparams\u001B[49m\u001B[38;5;241;43m=\u001B[39;49m\u001B[43m{\u001B[49m\u001B[38;5;124;43m'\u001B[39;49m\u001B[38;5;124;43mtoken\u001B[39;49m\u001B[38;5;124;43m'\u001B[39;49m\u001B[43m:\u001B[49m\u001B[38;5;28;43mself\u001B[39;49m\u001B[38;5;241;43m.\u001B[39;49m\u001B[43muser_token\u001B[49m\u001B[43m}\u001B[49m\n\u001B[0;32m    146\u001B[0m \u001B[43m\u001B[49m\u001B[43m)\u001B[49m\n\u001B[0;32m    147\u001B[0m \u001B[38;5;28mself\u001B[39m\u001B[38;5;241m.\u001B[39mrate_limit \u001B[38;5;241m=\u001B[39m resp\u001B[38;5;241m.\u001B[39mheaders\u001B[38;5;241m.\u001B[39mget(\n\u001B[0;32m    148\u001B[0m         \u001B[38;5;124m'\u001B[39m\u001B[38;5;124mX-Discogs-Ratelimit\u001B[39m\u001B[38;5;124m'\u001B[39m)\n\u001B[0;32m    149\u001B[0m \u001B[38;5;28mself\u001B[39m\u001B[38;5;241m.\u001B[39mrate_limit_used \u001B[38;5;241m=\u001B[39m resp\u001B[38;5;241m.\u001B[39mheaders\u001B[38;5;241m.\u001B[39mget(\n\u001B[0;32m    150\u001B[0m         \u001B[38;5;124m'\u001B[39m\u001B[38;5;124mX-Discogs-Ratelimit-Used\u001B[39m\u001B[38;5;124m'\u001B[39m)\n",
      "File \u001B[1;32mc:\\users\\river\\documents\\transparence\\discogs_project\\venv\\lib\\site-packages\\discogs_client\\utils.py:64\u001B[0m, in \u001B[0;36mbackoff.<locals>.wrapper\u001B[1;34m(self, *args, **kwargs)\u001B[0m\n\u001B[0;32m     61\u001B[0m         \u001B[38;5;28;01mreturn\u001B[39;00m result\n\u001B[0;32m     63\u001B[0m     duration \u001B[38;5;241m=\u001B[39m get_backoff_duration(i)\n\u001B[1;32m---> 64\u001B[0m     \u001B[43msleep\u001B[49m\u001B[43m(\u001B[49m\u001B[43mduration\u001B[49m\u001B[43m)\u001B[49m\n\u001B[0;32m     66\u001B[0m \u001B[38;5;66;03m# Max attempts reached without returning, raise error\u001B[39;00m\n\u001B[0;32m     67\u001B[0m \u001B[38;5;28;01mraise\u001B[39;00m TooManyAttemptsError\n",
      "\u001B[1;31mKeyboardInterrupt\u001B[0m: "
     ]
    }
   ],
   "source": [
    "# Final results will be stored in this dictionary\n",
    "# Key: Each track's title\n",
    "# Value: a MyTrack obj\n",
    "track_dic = {}\n",
    "# Name to be searched\n",
    "artist_name = greg.name\n",
    "# The artist instance\n",
    "artist_obj = greg\n",
    "# List of albums\n",
    "album_list = []\n",
    "\n",
    "\n",
    "def create_new_mytrack(cur_release, track_entry, is_release_main_artist, is_in_credits, main_release_name, cur_album):\n",
    "    \"\"\"\n",
    "    Create a new MyTrack instance based on the track_entry in the cur_release.\n",
    "    :param cur_album:\n",
    "    :param cur_release: current version of the master\n",
    "    :param track_entry: current track to create a new MyTrack instance\n",
    "    :param is_release_main_artist: whether artist_obj is the main artist of cur_release\n",
    "    :param is_in_credits: whether artist_name appears in the \"Credits\" part or not\n",
    "    :param main_release_name: the title of the main_release of the master\n",
    "    :return: title of the new track\n",
    "    \"\"\"\n",
    "    if main_release_name == \"\":\n",
    "        main_release_name = cur_release.title.strip()\n",
    "    new_key = track_entry.title.strip() + \" in \" + main_release_name\n",
    "    track_tmp = MyTrack(track_entry.title, main_release_name, track_entry.position)\n",
    "    track_tmp.url = cur_release.url\n",
    "    for artist_entry in cur_release.artists:\n",
    "        track_tmp.track_artist.add(artist_entry.name)\n",
    "    for label_entry in cur_release.labels:\n",
    "        track_tmp.labels.add(label_entry.name)\n",
    "        track_tmp.catalog_numbers.add(label_entry.data['catno'])\n",
    "    track_tmp.release_year.add(cur_release.year)\n",
    "    if is_release_main_artist:\n",
    "        track_tmp.instruments.add(\"Main\")\n",
    "    if is_in_credits:\n",
    "        for extra_artist_entry in cur_release.data['extraartists']:\n",
    "            if extra_artist_entry['name'] == artist_name:\n",
    "                track_tmp.instruments.add(extra_artist_entry['role'])\n",
    "                if extra_artist_entry['tracks'] != \"\":\n",
    "                    track_tmp.requires_manual_check = True\n",
    "                    track_tmp.track_specific_info.add(extra_artist_entry['tracks'])\n",
    "                    cur_album.track_specific_info.add(extra_artist_entry['tracks'])\n",
    "                break\n",
    "    track_tmp.genre.update(cur_release.genres)\n",
    "    for format_entry in cur_release.formats:\n",
    "        track_tmp.format.add(format_entry['name'])\n",
    "    track_tmp.countries_of_release.add(cur_release.country)\n",
    "    track_tmp.duration = track_entry.duration\n",
    "    if artist_obj in track_entry.credits:\n",
    "        new_role = \"\"\n",
    "        for ex_artist_entry in track_entry.data['extraartists']:\n",
    "            if ex_artist_entry['name'] == artist_name:\n",
    "                new_role = ex_artist_entry['role']\n",
    "        track_tmp.instruments.add(new_role)\n",
    "    track_dic[new_key] = track_tmp\n",
    "    cur_album.tracklist.append(track_tmp)\n",
    "    return track_entry.title\n",
    "\n",
    "\n",
    "def update_a_mytrack(cur_release, track_entry, main_release_name):\n",
    "    \"\"\"\n",
    "    Update an existing MyTrack instance in the track_dic, based on the track_entry in the cur_release.\n",
    "    :param cur_release: current version of the master\n",
    "    :param track_entry: current track to create a new MyTrack instance\n",
    "    :param main_release_name: the title of the main_release of the master\n",
    "    :return: the title of the updated MyTrack instance\n",
    "    \"\"\"\n",
    "    if main_release_name != \"\":\n",
    "        new_key = track_entry.title.strip() + \" in \" + main_release_name\n",
    "    else:\n",
    "        new_key = track_entry.title.strip() + \" in \" + cur_release.title.strip()\n",
    "    track_cur = track_dic.get(new_key)\n",
    "\n",
    "    for label_entry in cur_release.labels:\n",
    "        track_cur.labels.add(label_entry.name)\n",
    "        track_cur.catalog_numbers.add(label_entry.data['catno'])\n",
    "    track_cur.countries_of_release.add(cur_release.country)\n",
    "    track_cur.release_year.add(cur_release.year)\n",
    "    for format_entry in cur_release.formats:\n",
    "        track_cur.format.add(format_entry['name'])\n",
    "    return track_entry.title\n",
    "\n",
    "\n",
    "def check_single_track_credit(cur_release, track_entry, artist_t, is_release_main_artist, is_in_credits, main_release_name):\n",
    "    \"\"\"\n",
    "    If the artist_obj is not the main artist of the release, then check artist_obj's contribution in a single track.\n",
    "    :param cur_release: current version of the master\n",
    "    :param track_entry: current track to create a new MyTrack instance\n",
    "    :param artist_t: artist instance to be found\n",
    "    :param is_release_main_artist: whether artist_obj is the main artist of cur_release\n",
    "    :param is_in_credits: whether artist_name appears in the \"Credits\" part or not\n",
    "    :param main_release_name: the title of the main_release of the master\n",
    "    :return: title of the current track, whether updated\n",
    "    \"\"\"\n",
    "    new_key = track_entry.title.strip() + \" in \" + main_release_name\n",
    "    if artist_t in track_entry.credits:\n",
    "        if new_key in track_dic.keys():\n",
    "            cur_track_title = update_a_mytrack(cur_release, track_entry, main_release_name)\n",
    "        else:\n",
    "            cur_track_title = create_new_mytrack(cur_release, track_entry, is_release_main_artist, is_in_credits, main_release_name)\n",
    "        new_role = \"\"\n",
    "        for ex_artist_entry in track_entry.data['extraartists']:\n",
    "            if ex_artist_entry['name'] == artist_name:\n",
    "                new_role = ex_artist_entry['role']\n",
    "        track_dic[new_key].instruments.add(new_role)\n",
    "        return cur_track_title, True\n",
    "    return \"\", False\n",
    "\n",
    "\n",
    "def get_info_by_single_track(cur_release, is_release_main_artist, is_in_credits, track_title_list, main_release_name):\n",
    "    \"\"\"\n",
    "    If the artist_obj is not the main artist of the release, then check artist_obj's contribution track by track.\n",
    "    :param track_title_list: list of created MyTrack instances' titles\n",
    "    :param cur_release: current version of the master\n",
    "    :param is_release_main_artist: whether artist_obj is the main artist of cur_release\n",
    "    :param is_in_credits: whether artist_name appears in the \"Credits\" part or not\n",
    "    :param main_release_name: the title of the main_release of the master\n",
    "    :return: null\n",
    "    \"\"\"\n",
    "    for track_e in cur_release.tracklist:\n",
    "        cur_track_title, is_updated = check_single_track_credit(cur_release, track_e, artist_obj, is_release_main_artist, is_in_credits, main_release_name)\n",
    "        if is_updated:\n",
    "            track_title_list.append(cur_track_title)\n",
    "\n",
    "\n",
    "def get_info_from_release(cur_release, main_release_name):\n",
    "    \"\"\"\n",
    "    Complete data retrieving in one version/release.\n",
    "    :param cur_release: current version of the master\n",
    "    :param main_release_name: the title of the main_release of the master\n",
    "    :return: list of created MyTrack instances' titles, whether current artist is the main artist || current artist appear in \"Credits\"\n",
    "    \"\"\"\n",
    "    is_release_main_artist = False\n",
    "    is_in_credits = False\n",
    "    track_title_list = []\n",
    "    cur_album = MyAlbum(cur_release.title.strip())\n",
    "    cur_album.version_ids.add(cur_release.id)\n",
    "    if greg in cur_release.artists:\n",
    "        is_release_main_artist = True\n",
    "    if greg in cur_release.credits:\n",
    "        is_in_credits = True\n",
    "    if is_release_main_artist or is_in_credits:\n",
    "        for track_entry in cur_release.tracklist:\n",
    "            new_key = track_entry.title.strip() + \" in \" + cur_release.title.strip()\n",
    "            if new_key in track_dic.keys():\n",
    "                update_a_mytrack(main_release_tmp, track_entry, main_release_name)\n",
    "            else:\n",
    "                track_title_list.append(create_new_mytrack(main_release_tmp, track_entry, is_release_main_artist, is_in_credits, main_release_name))\n",
    "\n",
    "        return track_title_list, True\n",
    "    else:\n",
    "        get_info_by_single_track(cur_release, is_release_main_artist, is_in_credits, track_title_list, main_release_name)\n",
    "        return track_title_list, False\n",
    "\n",
    "def update_from_other_release_version(cur_release, track_title_list, update_all, main_release_name, cur_album):\n",
    "    \"\"\"\n",
    "    Update MyTrack in versions which are not main_release/version.\n",
    "    :param cur_album:\n",
    "    :param cur_release: current version of the master\n",
    "    :param track_title_list: list of created MyTrack instances' titles\n",
    "    :param update_all: whether current artist is the main artist || current artist appear in \"Credits\"\n",
    "    :param main_release_name: the title of the main_release of the master\n",
    "    :return: null\n",
    "    \"\"\"\n",
    "    if cur_release.id in cur_album.version_ids:\n",
    "        return\n",
    "    else:\n",
    "        cur_album.version_ids.add(cur_release.id)\n",
    "    is_release_main_artist = False\n",
    "    is_in_credits = False\n",
    "    if greg in cur_release.artists:\n",
    "        is_release_main_artist = True\n",
    "    if greg in cur_release.credits:\n",
    "        is_in_credits = True\n",
    "    for track_entry in cur_release.tracklist:\n",
    "        if track_entry.title in track_title_list:\n",
    "            # print(track_title_list)\n",
    "            update_a_mytrack(cur_release, track_entry, main_release_name)\n",
    "        elif update_all:\n",
    "            track_title_list.append(create_new_mytrack(cur_release, track_entry, is_release_main_artist, is_in_credits, main_release_name))\n",
    "        check_single_track_credit(cur_release, track_entry, artist_obj, is_release_main_artist, is_in_credits, main_release_name)\n",
    "\n",
    "# Main program starts here\n",
    "for cur_rel in greg_rel_page5:\n",
    "    # Each release's type is other master or release\n",
    "    if cur_rel.data[\"type\"] == \"master\":\n",
    "        main_release_tmp = cur_rel.main_release\n",
    "        # We first check the main_release of the master\n",
    "        track_names, should_update_all = get_info_from_release(main_release_tmp, main_release_tmp.title.strip())\n",
    "        # Then we iterate through other versions, mainly to collect new Countries of Release, Catalog #, Year,\n",
    "        for version_entry in cur_rel.versions:\n",
    "            update_from_other_release_version(version_entry, track_names, should_update_all, main_release_tmp.title.strip())\n",
    "    else:\n",
    "        track_names = get_info_from_release(cur_rel, cur_rel.title.strip())\n",
    "    print(track_names)\n"
   ],
   "metadata": {
    "collapsed": false,
    "pycharm": {
     "name": "#%%\n"
    }
   }
  },
  {
   "cell_type": "code",
   "execution_count": 6,
   "outputs": [],
   "source": [
    "tmp_release = greg_rel_page5[0].main_release"
   ],
   "metadata": {
    "collapsed": false,
    "pycharm": {
     "name": "#%%\n"
    }
   }
  },
  {
   "cell_type": "code",
   "execution_count": null,
   "outputs": [],
   "source": [
    "for tmp_rel in greg_rel:\n",
    "    if tmp_rel.title == \"So Excited!\":\n",
    "        rel_life = tmp_rel\n",
    "        print(tmp_rel.data[\"type\"])\n",
    "        break"
   ],
   "metadata": {
    "collapsed": false,
    "pycharm": {
     "name": "#%%\n"
    }
   }
  },
  {
   "cell_type": "code",
   "execution_count": null,
   "outputs": [],
   "source": [
    "master_count = 0\n",
    "release_count = 0\n",
    "release_has_master_count = 0\n",
    "for cur_rel in greg_rel:\n",
    "\n",
    "    if cur_rel.data[\"type\"] == \"master\":\n",
    "        master_count += 1\n",
    "    else:\n",
    "        release_count += 1\n",
    "        if cur_rel.master is not None:\n",
    "            release_has_master_count += 1\n",
    "\n",
    "print(master_count, release_count, release_has_master_count)"
   ],
   "metadata": {
    "collapsed": false,
    "pycharm": {
     "name": "#%%\n"
    }
   }
  },
  {
   "cell_type": "code",
   "execution_count": null,
   "outputs": [],
   "source": [
    "import copy\n",
    "tmp_dic = copy.deepcopy(track_dic)"
   ],
   "metadata": {
    "collapsed": false,
    "pycharm": {
     "name": "#%%\n"
    }
   }
  },
  {
   "cell_type": "code",
   "execution_count": null,
   "outputs": [],
   "source": [
    "for x in track_dic:\n",
    "    if track_dic[x].requires_manual_check:\n",
    "        print (track_dic[x].title, track_dic[x].album)"
   ],
   "metadata": {
    "collapsed": false,
    "pycharm": {
     "name": "#%%\n"
    }
   }
  },
  {
   "cell_type": "code",
   "execution_count": null,
   "outputs": [],
   "source": [
    "release8209382 = d.release(8209382)\n",
    "master8209382 = release8209382.master\n",
    "artists820 = [artist.name for artist in release8209382.artists]\n",
    "print(release8209382.credits[6] == greg)"
   ],
   "metadata": {
    "collapsed": false,
    "pycharm": {
     "name": "#%%\n"
    }
   }
  },
  {
   "cell_type": "code",
   "execution_count": null,
   "outputs": [],
   "source": [
    "master_born = d.master(82464)\n",
    "rel_born = master_born.main_release"
   ],
   "metadata": {
    "collapsed": false,
    "pycharm": {
     "name": "#%%\n"
    }
   }
  },
  {
   "cell_type": "code",
   "execution_count": null,
   "outputs": [],
   "source": [
    "rel1 = release8209382\n",
    "rel2 = release12059729\n",
    "master2 = rel2.master\n",
    "rel3 = d.release(476301)\n",
    "master3 = rel3\n",
    "master4 = d.master(261710)\n",
    "rel4 = master4.main_release"
   ],
   "metadata": {
    "collapsed": false,
    "pycharm": {
     "name": "#%%\n"
    }
   }
  },
  {
   "cell_type": "code",
   "execution_count": null,
   "outputs": [],
   "source": [
    "del track_dic"
   ],
   "metadata": {
    "collapsed": false,
    "pycharm": {
     "name": "#%%\n"
    }
   }
  },
  {
   "cell_type": "code",
   "execution_count": null,
   "outputs": [],
   "source": [],
   "metadata": {
    "collapsed": false,
    "pycharm": {
     "name": "#%%\n"
    }
   }
  }
 ],
 "metadata": {
  "kernelspec": {
   "display_name": "Python 3 (ipykernel)",
   "language": "python",
   "name": "python3"
  },
  "language_info": {
   "codemirror_mode": {
    "name": "ipython",
    "version": 3
   },
   "file_extension": ".py",
   "mimetype": "text/x-python",
   "name": "python",
   "nbconvert_exporter": "python",
   "pygments_lexer": "ipython3",
   "version": "3.10.2"
  }
 },
 "nbformat": 4,
 "nbformat_minor": 1
}