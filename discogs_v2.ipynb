{
 "cells": [
  {
   "cell_type": "code",
   "execution_count": 8,
   "metadata": {
    "pycharm": {
     "name": "#%%\n"
    }
   },
   "outputs": [
    {
     "name": "stdout",
     "output_type": "stream",
     "text": [
      "Collecting python3-discogs-clientNote: you may need to restart the kernel to use updated packages.\n",
      "\n",
      "  Downloading python3_discogs_client-2.3.14-py3-none-any.whl (15 kB)\n",
      "Requirement already satisfied: python-dateutil in c:\\users\\river\\documents\\transparence\\discogs_project\\venv\\lib\\site-packages (from python3-discogs-client) (2.8.2)\n",
      "Collecting requests\n",
      "  Downloading requests-2.27.1-py2.py3-none-any.whl (63 kB)\n",
      "Collecting oauthlib\n",
      "  Downloading oauthlib-3.2.0-py3-none-any.whl (151 kB)\n",
      "Requirement already satisfied: six>=1.5 in c:\\users\\river\\documents\\transparence\\discogs_project\\venv\\lib\\site-packages (from python-dateutil->python3-discogs-client) (1.16.0)\n",
      "Collecting idna<4,>=2.5\n",
      "  Downloading idna-3.3-py3-none-any.whl (61 kB)\n",
      "Collecting charset-normalizer~=2.0.0\n",
      "  Downloading charset_normalizer-2.0.12-py3-none-any.whl (39 kB)\n",
      "Collecting certifi>=2017.4.17\n",
      "  Downloading certifi-2022.5.18.1-py3-none-any.whl (155 kB)\n",
      "Collecting urllib3<1.27,>=1.21.1\n",
      "  Downloading urllib3-1.26.9-py2.py3-none-any.whl (138 kB)\n",
      "Installing collected packages: urllib3, idna, charset-normalizer, certifi, requests, oauthlib, python3-discogs-client\n",
      "Successfully installed certifi-2022.5.18.1 charset-normalizer-2.0.12 idna-3.3 oauthlib-3.2.0 python3-discogs-client-2.3.14 requests-2.27.1 urllib3-1.26.9\n"
     ]
    },
    {
     "name": "stderr",
     "output_type": "stream",
     "text": [
      "WARNING: You are using pip version 21.1.2; however, version 22.1.2 is available.\n",
      "You should consider upgrading via the 'c:\\users\\river\\documents\\transparence\\discogs_project\\venv\\scripts\\python.exe -m pip install --upgrade pip' command.\n"
     ]
    }
   ],
   "source": [
    "pip install python3-discogs-client"
   ]
  },
  {
   "cell_type": "code",
   "execution_count": 2,
   "metadata": {
    "collapsed": false,
    "pycharm": {
     "name": "#%%\n"
    }
   },
   "outputs": [],
   "source": [
    "import discogs_client"
   ]
  },
  {
   "cell_type": "code",
   "execution_count": 3,
   "metadata": {
    "pycharm": {
     "name": "#%%\n"
    }
   },
   "outputs": [],
   "source": [
    "# Replace the following user string and user_token first\n",
    "# https://python3-discogs-client.readthedocs.io/en/latest/authentication.html\n",
    "# ^ Check it and register an account on Discogs.com\n",
    "d = discogs_client.Client('Your arbitrary user string here', user_token='your user token here')"
   ]
  },
  {
   "cell_type": "code",
   "execution_count": 4,
   "metadata": {
    "collapsed": false,
    "pycharm": {
     "name": "#%%\n"
    }
   },
   "outputs": [],
   "source": [
    "class MyTrack:\n",
    "    \"\"\"\n",
    "    One Instance represents one row in the final excel table.\n",
    "    \"\"\"\n",
    "    def __init__(self, title, album, posi):\n",
    "        self.title = title\n",
    "        self.track_artist = set()\n",
    "        self.album = album\n",
    "        self.labels = set()\n",
    "        self.release_year = None\n",
    "        self.instruments = set()\n",
    "        self.genre = set()\n",
    "        self.format = set()\n",
    "        self.countries_of_release = set()\n",
    "        self.catalog_numbers = set()\n",
    "        self.requires_manual_check = False\n",
    "        self.id_str = title + \" in \" + album\n",
    "        self.url = None\n",
    "        self.position = posi\n",
    "        self.track_specific_info = set()\n",
    "        self.release_id = None\n",
    "\n",
    "    def __str__ (self):\n",
    "        return self.title + ' ' + self.album + ' ' + str(self.release_year)\n",
    "\n",
    "    def __repr__ (self):\n",
    "        return self.title + ' ' + self.album + ' ' + str(self.release_year)"
   ]
  },
  {
   "cell_type": "code",
   "execution_count": 5,
   "metadata": {
    "collapsed": false,
    "pycharm": {
     "name": "#%%\n"
    }
   },
   "outputs": [],
   "source": [
    "class MyAlbum:\n",
    "    def __init__(self, title):\n",
    "        self.album_title = title\n",
    "        self.track_specific_info = set()\n",
    "        self.tracklist = []\n",
    "        self.version_ids = set()\n",
    "        self.has_track_specific_info_in_release_credits = False\n",
    "\n",
    "    def __str__ (self):\n",
    "        return self.album_title\n",
    "\n",
    "    def __repr__ (self):\n",
    "        return self.album_title"
   ]
  },
  {
   "cell_type": "code",
   "execution_count": 6,
   "metadata": {
    "collapsed": false,
    "pycharm": {
     "name": "#%%\n"
    }
   },
   "outputs": [],
   "source": [
    "# 108475 is the artist id for Greg Phillinganes.\n",
    "greg = d.artist(108475)\n",
    "# All the releases/masters related to Greg Phillinganes.\n",
    "greg_rel = greg.releases\n",
    "# The release list can be paginated\n",
    "greg_rel_page0 = greg_rel.page(0)\n",
    "greg_rel_page5 = greg_rel.page(5)\n"
   ]
  },
  {
   "cell_type": "code",
   "execution_count": 21,
   "metadata": {
    "collapsed": false,
    "pycharm": {
     "name": "#%%\n"
    }
   },
   "outputs": [
    {
     "name": "stdout",
     "output_type": "stream",
     "text": [
      "[Funk It (Funkadelala) Blast! 1982, Stomp! Blast! 1982, The Real Thing Blast! 1982]\n",
      "[All Of You So Excited! 0, All Of You So Excited! 1982, All Of You So Excited! 1982, All Of You So Excited! 1982, American Music So Excited! 0, American Music So Excited! 1982, American Music So Excited! 1982, American Music So Excited! 1982, Heart Beat So Excited! 0, Heart Beat So Excited! 1982, Heart Beat So Excited! 1982, Heart To Heart So Excited! 0, Heart To Heart So Excited! 1982, Heart To Heart So Excited! 1982, Heart To Heart So Excited! 1982, Heartbeat So Excited! 1982, I Feel For You So Excited! 0, I Feel For You So Excited! 1982, I Feel For You So Excited! 1982, I Feel For You So Excited! 1982, I'm So Excited So Excited! 0, I'm So Excited So Excited! 1982, I'm So Excited So Excited! 1982, I'm So Excited So Excited! 1982, If You Wanna Get Back Your Lady So Excited! 0, If You Wanna Get Back Your Lady So Excited! 1982, If You Wanna Get Back Your Lady So Excited! 1982, If You Wanna Get Back Your Lady So Excited! 1982, See How The Love Goes So Excited! 0, See How The Love Goes So Excited! 1982, See How The Love Goes So Excited! 1982, See How The Love Goes So Excited! 1982]\n",
      "[Find It In Your Heart Current 1982, Hold On To The One Current 1982, Lettin' It Loose Current 1982, Look After Love Current 1982, Mind What You Find Current 1982, Naturally Current 1982, State To State Current 1982, The Big Guns Current 1982, The Big Guns Current 1982]\n",
      "[A Fantasy Rit/2 1982, A Fantasy Rit/2 1982, A Fantasy Rit/2 1994, Cross My Heart Rit/2 1982, Cross My Heart Rit/2 1982, Cross My Heart Rit/2 1994, Dreamwalkin' (Along With Me) Rit/2 1982, Dreamwalkin' (Along With You) Rit/2 1982, Dreamwalkin´ (Along With You) Rit/2 1994, Keep It Alive Rit/2 1982, Keep It Alive Rit/2 1982, Keep It Alive Rit/2 1994, Malibu Rit/2 1982, Malibu Rit/2 1982, Malibu Rit/2 1994, On The Boardwalk Rit/2 1982, On The Boardwalk Rit/2 1982, On The Boardwalk Rit/2 1994, Promises, Promises Rit/2 1982, Promises, Promises Rit/2 1982, Promises, Promises Rit/2 1994, Road Runner Rit/2 1982, Road Runner Rit/2 1982, Road Runner Rit/2 1994, Tied Up Rit/2 1982, Tied Up Rit/2 1982, Tied Up Rit/2 1994, Voices Rit/2 1982, Voices Rit/2 1982, Voices Rit/2 1994]\n"
     ]
    },
    {
     "ename": "KeyboardInterrupt",
     "evalue": "",
     "output_type": "error",
     "traceback": [
      "\u001b[1;31m---------------------------------------------------------------------------\u001b[0m",
      "\u001b[1;31mKeyboardInterrupt\u001b[0m                         Traceback (most recent call last)",
      "Input \u001b[1;32mIn [21]\u001b[0m, in \u001b[0;36m<cell line: 162>\u001b[1;34m()\u001b[0m\n\u001b[0;32m    169\u001b[0m     tmp_versions \u001b[38;5;241m=\u001b[39m cur_rel\u001b[38;5;241m.\u001b[39mversions\n\u001b[0;32m    170\u001b[0m     \u001b[38;5;28;01mfor\u001b[39;00m version_entry \u001b[38;5;129;01min\u001b[39;00m tmp_versions:\n\u001b[0;32m    171\u001b[0m         \u001b[38;5;66;03m# print(version_entry.id, count)\u001b[39;00m\n\u001b[0;32m    172\u001b[0m         \u001b[38;5;66;03m# count += 1\u001b[39;00m\n\u001b[1;32m--> 173\u001b[0m         \u001b[43mupdate_from_other_release_version\u001b[49m\u001b[43m(\u001b[49m\u001b[43mversion_entry\u001b[49m\u001b[43m,\u001b[49m\u001b[43m \u001b[49m\u001b[43mshould_update_all\u001b[49m\u001b[43m,\u001b[49m\u001b[43m \u001b[49m\u001b[43mmain_release_tmp\u001b[49m\u001b[38;5;241;43m.\u001b[39;49m\u001b[43mtitle\u001b[49m\u001b[38;5;241;43m.\u001b[39;49m\u001b[43mstrip\u001b[49m\u001b[43m(\u001b[49m\u001b[43m)\u001b[49m\u001b[43m,\u001b[49m\u001b[43m \u001b[49m\u001b[43mtmp_album\u001b[49m\u001b[43m)\u001b[49m\n\u001b[0;32m    174\u001b[0m \u001b[38;5;28;01melse\u001b[39;00m:\n\u001b[0;32m    175\u001b[0m     tmp_album, boolean_never_used \u001b[38;5;241m=\u001b[39m get_info_from_release(cur_rel, cur_rel\u001b[38;5;241m.\u001b[39mtitle\u001b[38;5;241m.\u001b[39mstrip())\n",
      "Input \u001b[1;32mIn [21]\u001b[0m, in \u001b[0;36mupdate_from_other_release_version\u001b[1;34m(cur_release, updated_all_in_main_release, main_release_name, cur_album)\u001b[0m\n\u001b[0;32m    135\u001b[0m is_in_credits \u001b[38;5;241m=\u001b[39m \u001b[38;5;28;01mFalse\u001b[39;00m\n\u001b[0;32m    137\u001b[0m has_track_specific_info_in_credits \u001b[38;5;241m=\u001b[39m \u001b[38;5;28;01mFalse\u001b[39;00m\n\u001b[1;32m--> 138\u001b[0m \u001b[38;5;28;01mif\u001b[39;00m greg \u001b[38;5;129;01min\u001b[39;00m \u001b[43mcur_release\u001b[49m\u001b[38;5;241;43m.\u001b[39;49m\u001b[43martists\u001b[49m:\n\u001b[0;32m    139\u001b[0m     is_release_main_artist \u001b[38;5;241m=\u001b[39m \u001b[38;5;28;01mTrue\u001b[39;00m\n\u001b[0;32m    140\u001b[0m \u001b[38;5;28;01mif\u001b[39;00m greg \u001b[38;5;129;01min\u001b[39;00m cur_release\u001b[38;5;241m.\u001b[39mcredits:\n",
      "File \u001b[1;32mc:\\users\\river\\documents\\transparence\\discogs_project\\venv\\lib\\site-packages\\discogs_client\\models.py:96\u001b[0m, in \u001b[0;36mListFieldDescriptor.__get__\u001b[1;34m(self, instance, owner)\u001b[0m\n\u001b[0;32m     94\u001b[0m     \u001b[38;5;28;01mreturn\u001b[39;00m \u001b[38;5;28mself\u001b[39m\n\u001b[0;32m     95\u001b[0m wrapper_class \u001b[38;5;241m=\u001b[39m CLASS_MAP[\u001b[38;5;28mself\u001b[39m\u001b[38;5;241m.\u001b[39mclass_name\u001b[38;5;241m.\u001b[39mlower()]\n\u001b[1;32m---> 96\u001b[0m \u001b[38;5;28;01mreturn\u001b[39;00m [wrapper_class(instance\u001b[38;5;241m.\u001b[39mclient, d) \u001b[38;5;28;01mfor\u001b[39;00m d \u001b[38;5;129;01min\u001b[39;00m \u001b[43minstance\u001b[49m\u001b[38;5;241;43m.\u001b[39;49m\u001b[43mfetch\u001b[49m\u001b[43m(\u001b[49m\u001b[38;5;28;43mself\u001b[39;49m\u001b[38;5;241;43m.\u001b[39;49m\u001b[43mname\u001b[49m\u001b[43m,\u001b[49m\u001b[43m \u001b[49m\u001b[43m[\u001b[49m\u001b[43m]\u001b[49m\u001b[43m)\u001b[49m]\n",
      "File \u001b[1;32mc:\\users\\river\\documents\\transparence\\discogs_project\\venv\\lib\\site-packages\\discogs_client\\models.py:237\u001b[0m, in \u001b[0;36mPrimaryAPIObject.fetch\u001b[1;34m(self, key, default)\u001b[0m\n\u001b[0;32m    233\u001b[0m     \u001b[38;5;28;01mpass\u001b[39;00m\n\u001b[0;32m    235\u001b[0m \u001b[38;5;66;03m# Now refresh the object from its resource_url.\u001b[39;00m\n\u001b[0;32m    236\u001b[0m \u001b[38;5;66;03m# The key might exist but not be in our cache.\u001b[39;00m\n\u001b[1;32m--> 237\u001b[0m \u001b[38;5;28;43mself\u001b[39;49m\u001b[38;5;241;43m.\u001b[39;49m\u001b[43mrefresh\u001b[49m\u001b[43m(\u001b[49m\u001b[43m)\u001b[49m\n\u001b[0;32m    239\u001b[0m \u001b[38;5;28;01mtry\u001b[39;00m:\n\u001b[0;32m    240\u001b[0m     \u001b[38;5;28;01mreturn\u001b[39;00m \u001b[38;5;28mself\u001b[39m\u001b[38;5;241m.\u001b[39mdata[key]\n",
      "File \u001b[1;32mc:\\users\\river\\documents\\transparence\\discogs_project\\venv\\lib\\site-packages\\discogs_client\\models.py:203\u001b[0m, in \u001b[0;36mPrimaryAPIObject.refresh\u001b[1;34m(self)\u001b[0m\n\u001b[0;32m    201\u001b[0m \u001b[38;5;28;01mdef\u001b[39;00m \u001b[38;5;21mrefresh\u001b[39m(\u001b[38;5;28mself\u001b[39m):\n\u001b[0;32m    202\u001b[0m     \u001b[38;5;28;01mif\u001b[39;00m \u001b[38;5;28mself\u001b[39m\u001b[38;5;241m.\u001b[39mdata\u001b[38;5;241m.\u001b[39mget(\u001b[38;5;124m'\u001b[39m\u001b[38;5;124mresource_url\u001b[39m\u001b[38;5;124m'\u001b[39m):\n\u001b[1;32m--> 203\u001b[0m         data \u001b[38;5;241m=\u001b[39m \u001b[38;5;28;43mself\u001b[39;49m\u001b[38;5;241;43m.\u001b[39;49m\u001b[43mclient\u001b[49m\u001b[38;5;241;43m.\u001b[39;49m\u001b[43m_get\u001b[49m\u001b[43m(\u001b[49m\u001b[38;5;28;43mself\u001b[39;49m\u001b[38;5;241;43m.\u001b[39;49m\u001b[43mdata\u001b[49m\u001b[43m[\u001b[49m\u001b[38;5;124;43m'\u001b[39;49m\u001b[38;5;124;43mresource_url\u001b[39;49m\u001b[38;5;124;43m'\u001b[39;49m\u001b[43m]\u001b[49m\u001b[43m)\u001b[49m\n\u001b[0;32m    204\u001b[0m         \u001b[38;5;28mself\u001b[39m\u001b[38;5;241m.\u001b[39mdata\u001b[38;5;241m.\u001b[39mupdate(data)\n\u001b[0;32m    205\u001b[0m         \u001b[38;5;28mself\u001b[39m\u001b[38;5;241m.\u001b[39mchanges \u001b[38;5;241m=\u001b[39m {}\n",
      "File \u001b[1;32mc:\\users\\river\\documents\\transparence\\discogs_project\\venv\\lib\\site-packages\\discogs_client\\client.py:113\u001b[0m, in \u001b[0;36mClient._get\u001b[1;34m(self, url)\u001b[0m\n\u001b[0;32m    112\u001b[0m \u001b[38;5;28;01mdef\u001b[39;00m \u001b[38;5;21m_get\u001b[39m(\u001b[38;5;28mself\u001b[39m, url):\n\u001b[1;32m--> 113\u001b[0m     \u001b[38;5;28;01mreturn\u001b[39;00m \u001b[38;5;28;43mself\u001b[39;49m\u001b[38;5;241;43m.\u001b[39;49m\u001b[43m_request\u001b[49m\u001b[43m(\u001b[49m\u001b[38;5;124;43m'\u001b[39;49m\u001b[38;5;124;43mGET\u001b[39;49m\u001b[38;5;124;43m'\u001b[39;49m\u001b[43m,\u001b[49m\u001b[43m \u001b[49m\u001b[43murl\u001b[49m\u001b[43m)\u001b[49m\n",
      "File \u001b[1;32mc:\\users\\river\\documents\\transparence\\discogs_project\\venv\\lib\\site-packages\\discogs_client\\client.py:100\u001b[0m, in \u001b[0;36mClient._request\u001b[1;34m(self, method, url, data)\u001b[0m\n\u001b[0;32m     97\u001b[0m \u001b[38;5;28;01mif\u001b[39;00m data:\n\u001b[0;32m     98\u001b[0m     headers[\u001b[38;5;124m'\u001b[39m\u001b[38;5;124mContent-Type\u001b[39m\u001b[38;5;124m'\u001b[39m] \u001b[38;5;241m=\u001b[39m \u001b[38;5;124m'\u001b[39m\u001b[38;5;124mapplication/json\u001b[39m\u001b[38;5;124m'\u001b[39m\n\u001b[1;32m--> 100\u001b[0m content, status_code \u001b[38;5;241m=\u001b[39m \u001b[38;5;28;43mself\u001b[39;49m\u001b[38;5;241;43m.\u001b[39;49m\u001b[43m_fetcher\u001b[49m\u001b[38;5;241;43m.\u001b[39;49m\u001b[43mfetch\u001b[49m\u001b[43m(\u001b[49m\u001b[38;5;28;43mself\u001b[39;49m\u001b[43m,\u001b[49m\u001b[43m \u001b[49m\u001b[43mmethod\u001b[49m\u001b[43m,\u001b[49m\u001b[43m \u001b[49m\u001b[43murl\u001b[49m\u001b[43m,\u001b[49m\u001b[43m \u001b[49m\u001b[43mdata\u001b[49m\u001b[38;5;241;43m=\u001b[39;49m\u001b[43mdata\u001b[49m\u001b[43m,\u001b[49m\u001b[43m \u001b[49m\u001b[43mheaders\u001b[49m\u001b[38;5;241;43m=\u001b[39;49m\u001b[43mheaders\u001b[49m\u001b[43m)\u001b[49m\n\u001b[0;32m    102\u001b[0m \u001b[38;5;28;01mif\u001b[39;00m status_code \u001b[38;5;241m==\u001b[39m \u001b[38;5;241m204\u001b[39m:\n\u001b[0;32m    103\u001b[0m     \u001b[38;5;28;01mreturn\u001b[39;00m \u001b[38;5;28;01mNone\u001b[39;00m\n",
      "File \u001b[1;32mc:\\users\\river\\documents\\transparence\\discogs_project\\venv\\lib\\site-packages\\discogs_client\\fetchers.py:144\u001b[0m, in \u001b[0;36mUserTokenRequestsFetcher.fetch\u001b[1;34m(self, client, method, url, data, headers, json_format)\u001b[0m\n\u001b[0;32m    118\u001b[0m \u001b[38;5;124;03m\"\"\"Fetch the given request on the user's behalf\u001b[39;00m\n\u001b[0;32m    119\u001b[0m \n\u001b[0;32m    120\u001b[0m \u001b[38;5;124;03mParameters\u001b[39;00m\n\u001b[1;32m   (...)\u001b[0m\n\u001b[0;32m    141\u001b[0m \u001b[38;5;124;03m    as returned by Python \"Requests\"\u001b[39;00m\n\u001b[0;32m    142\u001b[0m \u001b[38;5;124;03m\"\"\"\u001b[39;00m\n\u001b[0;32m    143\u001b[0m data \u001b[38;5;241m=\u001b[39m json\u001b[38;5;241m.\u001b[39mdumps(data) \u001b[38;5;28;01mif\u001b[39;00m json_format \u001b[38;5;129;01mand\u001b[39;00m data \u001b[38;5;28;01melse\u001b[39;00m data\n\u001b[1;32m--> 144\u001b[0m resp \u001b[38;5;241m=\u001b[39m \u001b[38;5;28;43mself\u001b[39;49m\u001b[38;5;241;43m.\u001b[39;49m\u001b[43mrequest\u001b[49m\u001b[43m(\u001b[49m\n\u001b[0;32m    145\u001b[0m \u001b[43m    \u001b[49m\u001b[43mmethod\u001b[49m\u001b[43m,\u001b[49m\u001b[43m \u001b[49m\u001b[43murl\u001b[49m\u001b[43m,\u001b[49m\u001b[43m \u001b[49m\u001b[43mdata\u001b[49m\u001b[38;5;241;43m=\u001b[39;49m\u001b[43mdata\u001b[49m\u001b[43m,\u001b[49m\u001b[43m \u001b[49m\u001b[43mheaders\u001b[49m\u001b[38;5;241;43m=\u001b[39;49m\u001b[43mheaders\u001b[49m\u001b[43m,\u001b[49m\u001b[43m \u001b[49m\u001b[43mparams\u001b[49m\u001b[38;5;241;43m=\u001b[39;49m\u001b[43m{\u001b[49m\u001b[38;5;124;43m'\u001b[39;49m\u001b[38;5;124;43mtoken\u001b[39;49m\u001b[38;5;124;43m'\u001b[39;49m\u001b[43m:\u001b[49m\u001b[38;5;28;43mself\u001b[39;49m\u001b[38;5;241;43m.\u001b[39;49m\u001b[43muser_token\u001b[49m\u001b[43m}\u001b[49m\n\u001b[0;32m    146\u001b[0m \u001b[43m\u001b[49m\u001b[43m)\u001b[49m\n\u001b[0;32m    147\u001b[0m \u001b[38;5;28mself\u001b[39m\u001b[38;5;241m.\u001b[39mrate_limit \u001b[38;5;241m=\u001b[39m resp\u001b[38;5;241m.\u001b[39mheaders\u001b[38;5;241m.\u001b[39mget(\n\u001b[0;32m    148\u001b[0m         \u001b[38;5;124m'\u001b[39m\u001b[38;5;124mX-Discogs-Ratelimit\u001b[39m\u001b[38;5;124m'\u001b[39m)\n\u001b[0;32m    149\u001b[0m \u001b[38;5;28mself\u001b[39m\u001b[38;5;241m.\u001b[39mrate_limit_used \u001b[38;5;241m=\u001b[39m resp\u001b[38;5;241m.\u001b[39mheaders\u001b[38;5;241m.\u001b[39mget(\n\u001b[0;32m    150\u001b[0m         \u001b[38;5;124m'\u001b[39m\u001b[38;5;124mX-Discogs-Ratelimit-Used\u001b[39m\u001b[38;5;124m'\u001b[39m)\n",
      "File \u001b[1;32mc:\\users\\river\\documents\\transparence\\discogs_project\\venv\\lib\\site-packages\\discogs_client\\utils.py:64\u001b[0m, in \u001b[0;36mbackoff.<locals>.wrapper\u001b[1;34m(self, *args, **kwargs)\u001b[0m\n\u001b[0;32m     61\u001b[0m         \u001b[38;5;28;01mreturn\u001b[39;00m result\n\u001b[0;32m     63\u001b[0m     duration \u001b[38;5;241m=\u001b[39m get_backoff_duration(i)\n\u001b[1;32m---> 64\u001b[0m     \u001b[43msleep\u001b[49m\u001b[43m(\u001b[49m\u001b[43mduration\u001b[49m\u001b[43m)\u001b[49m\n\u001b[0;32m     66\u001b[0m \u001b[38;5;66;03m# Max attempts reached without returning, raise error\u001b[39;00m\n\u001b[0;32m     67\u001b[0m \u001b[38;5;28;01mraise\u001b[39;00m TooManyAttemptsError\n",
      "\u001b[1;31mKeyboardInterrupt\u001b[0m: "
     ]
    }
   ],
   "source": [
    "# Final results will be stored in this dictionary\n",
    "# Key: Each track's title\n",
    "# Value: a MyTrack obj\n",
    "# track_dic = {}\n",
    "# Name to be searched\n",
    "artist_name = greg.name\n",
    "# The artist instance\n",
    "artist_obj = greg\n",
    "\n",
    "# List of albums\n",
    "album_list = []\n",
    "\n",
    "added_track_set = set()\n",
    "\n",
    "\n",
    "def create_new_mytrack(cur_release, track_entry, is_release_main_artist, is_in_credits, main_release_name, cur_album):\n",
    "    \"\"\"\n",
    "    Create a new MyTrack instance based on the track_entry in the cur_release.\n",
    "    :param cur_album:\n",
    "    :param cur_release: current version of the master\n",
    "    :param track_entry: current track to create a new MyTrack instance\n",
    "    :param is_release_main_artist: whether artist_obj is the main artist of cur_release\n",
    "    :param is_in_credits: whether artist_name appears in the \"Credits\" part or not\n",
    "    :param main_release_name: the title of the main_release of the master\n",
    "    :return: title of the new track\n",
    "    \"\"\"\n",
    "    if main_release_name == \"\":\n",
    "        main_release_name = cur_release.title.strip()\n",
    "    track_tmp = MyTrack(track_entry.title, main_release_name, track_entry.position)\n",
    "    added_track_set.add(track_entry.title + \" in \" + main_release_name)\n",
    "    track_tmp.url = cur_release.url\n",
    "    track_tmp.release_id = cur_release.id\n",
    "    for artist_entry in cur_release.artists:\n",
    "        track_tmp.track_artist.add(artist_entry.name)\n",
    "    for label_entry in cur_release.labels:\n",
    "        track_tmp.labels.add(label_entry.name)\n",
    "        track_tmp.catalog_numbers.add(label_entry.data['catno'])\n",
    "\n",
    "    track_tmp.release_year = cur_release.year\n",
    "    if is_release_main_artist:\n",
    "        track_tmp.instruments.add(\"Main\")\n",
    "    if is_in_credits or artist_obj in track_entry.credits:\n",
    "        for extra_artist_entry in cur_release.data['extraartists']:\n",
    "            if extra_artist_entry['name'] == artist_name:\n",
    "                track_tmp.instruments.add(extra_artist_entry['role'])\n",
    "                if extra_artist_entry['tracks'] != \"\":\n",
    "                    track_tmp.requires_manual_check = True\n",
    "                    track_tmp.track_specific_info.add(extra_artist_entry['role'] + \" -> tracks: \" + extra_artist_entry['tracks'])\n",
    "                    cur_album.track_specific_info.add(\"in releaseID: \" + str(cur_release.id) + \": \" + extra_artist_entry['role'] + \" -> tracks: \" + extra_artist_entry['tracks'])\n",
    "                    cur_album.has_track_specific_info_in_release_credits = True\n",
    "    track_tmp.genre.update(cur_release.genres)\n",
    "    for format_entry in cur_release.formats:\n",
    "        track_tmp.format.add(format_entry['name'])\n",
    "    track_tmp.countries_of_release.add(cur_release.country)\n",
    "    track_tmp.duration = track_entry.duration\n",
    "    cur_album.tracklist.append(track_tmp)\n",
    "    return track_tmp\n",
    "\n",
    "\n",
    "def check_single_track_credit(cur_release, track_entry, artist_t, is_release_main_artist, is_in_credits, main_release_name, cur_album):\n",
    "    \"\"\"\n",
    "    If the artist_obj is not the main artist of the release, then check artist_obj's contribution in a single track.\n",
    "    :param cur_album:\n",
    "    :param cur_release: current version of the master\n",
    "    :param track_entry: current track to create a new MyTrack instance\n",
    "    :param artist_t: artist instance to be found\n",
    "    :param is_release_main_artist: whether artist_obj is the main artist of cur_release\n",
    "    :param is_in_credits: whether artist_name appears in the \"Credits\" part or not\n",
    "    :param main_release_name: the title of the main_release of the master\n",
    "    :return: title of the current track, whether updated\n",
    "    \"\"\"\n",
    "    if artist_t in track_entry.credits:\n",
    "        cur_track_obj = create_new_mytrack(cur_release, track_entry, is_release_main_artist, is_in_credits, main_release_name, cur_album)\n",
    "        for ex_artist_entry in track_entry.data['extraartists']:\n",
    "            if ex_artist_entry['name'] == artist_name:\n",
    "                new_role = ex_artist_entry['role']\n",
    "                cur_track_obj.instruments.add(new_role)\n",
    "        return cur_track_obj, True\n",
    "    return None, False\n",
    "\n",
    "\n",
    "def get_info_by_single_track(cur_release, is_release_main_artist, is_in_credits, main_release_name, cur_album):\n",
    "    \"\"\"\n",
    "    If the artist_obj is not the main artist of the release, then check artist_obj's contribution track by track.\n",
    "    :param cur_album:\n",
    "    :param cur_release: current version of the master\n",
    "    :param is_release_main_artist: whether artist_obj is the main artist of cur_release\n",
    "    :param is_in_credits: whether artist_name appears in the \"Credits\" part or not\n",
    "    :param main_release_name: the title of the main_release of the master\n",
    "    :return: null\n",
    "    \"\"\"\n",
    "    for track_e in cur_release.tracklist:\n",
    "        check_single_track_credit(cur_release, track_e, artist_obj, is_release_main_artist, is_in_credits, main_release_name, cur_album)\n",
    "\n",
    "\n",
    "\n",
    "def get_info_from_release(cur_release, main_release_name):\n",
    "    \"\"\"\n",
    "    Complete data retrieving in one version/release.\n",
    "    :param cur_release: current version of the master\n",
    "    :param main_release_name: the title of the main_release of the master\n",
    "    :return: list of created MyTrack instances' titles, whether current artist is the main artist || current artist appear in \"Credits\"\n",
    "    \"\"\"\n",
    "    is_release_main_artist = False\n",
    "    is_in_credits = False\n",
    "    cur_album = MyAlbum(cur_release.title.strip())\n",
    "    cur_album.version_ids.add(cur_release.id)\n",
    "    album_list.append(cur_album)\n",
    "    for main_artist_e in cur_release.artists:\n",
    "        if main_artist_e.id == artist_id:\n",
    "            is_release_main_artist = True\n",
    "            break\n",
    "    for credit_artist_e in cur_release.credits:\n",
    "        if credit_artist_e.id == artist_id:\n",
    "            is_in_credits = True\n",
    "            break\n",
    "    if is_release_main_artist or is_in_credits:\n",
    "        for track_entry in cur_release.tracklist:\n",
    "            create_new_mytrack(main_release_tmp, track_entry, is_release_main_artist, is_in_credits, main_release_name, cur_album)\n",
    "        return cur_album, True\n",
    "    else:\n",
    "        get_info_by_single_track(cur_release, is_release_main_artist, is_in_credits, main_release_name, cur_album)\n",
    "        return cur_album, False\n",
    "\n",
    "def update_from_other_release_version(cur_release, updated_all_in_main_release, main_release_name, cur_album):\n",
    "    \"\"\"\n",
    "    Update MyTrack in versions which are not main_release/version.\n",
    "    :param cur_album:\n",
    "    :param cur_release: current version of the master\n",
    "    :param updated_all_in_main_release: in main_release of the master, whether current artist is the main artist || current artist appear in \"Credits\"\n",
    "    :param main_release_name: the title of the main_release of the master\n",
    "    :return: null\n",
    "    \"\"\"\n",
    "    if cur_release.id in cur_album.version_ids:\n",
    "        return\n",
    "    else:\n",
    "        cur_album.version_ids.add(cur_release.id)\n",
    "    is_release_main_artist = False\n",
    "    is_in_credits = False\n",
    "\n",
    "    has_track_specific_info_in_credits = False\n",
    "    for main_artist_e in cur_release.artists:\n",
    "        if main_artist_e.id == artist_id:\n",
    "            is_release_main_artist = True\n",
    "            break\n",
    "    for credit_artist_e in cur_release.credits:\n",
    "        if credit_artist_e.id == artist_id:\n",
    "            is_in_credits = True\n",
    "            break\n",
    "    if is_in_credits:        \n",
    "        for extra_artist_entry in cur_release.data['extraartists']:\n",
    "            if extra_artist_entry['name'] == artist_name and extra_artist_entry['tracks'] != \"\":\n",
    "                new_str_id = extra_artist_entry['role'] + \" -> tracks: \" + extra_artist_entry['tracks']\n",
    "                if not new_str_id in cur_album.track_specific_info:\n",
    "                    cur_album.track_specific_info.add(new_str_id)\n",
    "                    has_track_specific_info_in_credits = True\n",
    "    update_all_cur_version = is_release_main_artist or is_in_credits\n",
    "\n",
    "    if has_track_specific_info_in_credits or ( update_all_cur_version and not updated_all_in_main_release ):\n",
    "        for track_entry in cur_release.tracklist:\n",
    "            create_new_mytrack(cur_release, track_entry, is_release_main_artist, is_in_credits, main_release_name, cur_album)\n",
    "    elif updated_all_in_main_release:\n",
    "        return\n",
    "    else:\n",
    "        for track_entry in cur_release.tracklist:\n",
    "            cur_str = track_entry.title + \" in \" + main_release_name\n",
    "            if not cur_str in added_track_set:\n",
    "                check_single_track_credit(cur_release, track_entry, artist_obj, is_release_main_artist, is_in_credits, main_release_name, cur_album)\n",
    "\n",
    "# Main program starts here\n",
    "for cur_rel in greg_rel:\n",
    "    # Each release's type is other master or release\n",
    "    if cur_rel.data[\"type\"] == \"master\":\n",
    "        main_release_tmp = cur_rel.main_release\n",
    "        # We first check the main_release of the master\n",
    "        tmp_album, should_update_all = get_info_from_release(main_release_tmp, main_release_tmp.title.strip())\n",
    "        # Then we iterate through other versions, mainly to collect new Countries of Release, Catalog #, Year,\n",
    "        tmp_versions = cur_rel.versions\n",
    "        for version_entry in tmp_versions:\n",
    "            update_from_other_release_version(version_entry, should_update_all, main_release_tmp.title.strip(), tmp_album)\n",
    "    else:\n",
    "        tmp_album, boolean_never_used = get_info_from_release(cur_rel, cur_rel.title.strip())\n",
    "    tmp_album.tracklist.sort(key=lambda e: (e.title, e.release_year, e.release_id))\n",
    "    print(tmp_album.tracklist)\n"
   ]
  },
  {
   "cell_type": "code",
   "execution_count": null,
   "metadata": {
    "collapsed": false,
    "pycharm": {
     "name": "#%%\n"
    }
   },
   "outputs": [],
   "source": []
  }
 ],
 "metadata": {
  "kernelspec": {
   "display_name": "Python 3 (ipykernel)",
   "language": "python",
   "name": "python3"
  },
  "language_info": {
   "codemirror_mode": {
    "name": "ipython",
    "version": 3
   },
   "file_extension": ".py",
   "mimetype": "text/x-python",
   "name": "python",
   "nbconvert_exporter": "python",
   "pygments_lexer": "ipython3",
   "version": "3.10.2"
  }
 },
 "nbformat": 4,
 "nbformat_minor": 1
}
