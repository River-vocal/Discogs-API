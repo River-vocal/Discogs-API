{
 "cells": [
  {
   "cell_type": "code",
   "execution_count": 8,
   "metadata": {
    "pycharm": {
     "name": "#%%\n"
    }
   },
   "outputs": [
    {
     "name": "stdout",
     "output_type": "stream",
     "text": [
      "Collecting python3-discogs-clientNote: you may need to restart the kernel to use updated packages.\n",
      "\n",
      "  Downloading python3_discogs_client-2.3.14-py3-none-any.whl (15 kB)\n",
      "Requirement already satisfied: python-dateutil in c:\\users\\river\\documents\\transparence\\discogs_project\\venv\\lib\\site-packages (from python3-discogs-client) (2.8.2)\n",
      "Collecting requests\n",
      "  Downloading requests-2.27.1-py2.py3-none-any.whl (63 kB)\n",
      "Collecting oauthlib\n",
      "  Downloading oauthlib-3.2.0-py3-none-any.whl (151 kB)\n",
      "Requirement already satisfied: six>=1.5 in c:\\users\\river\\documents\\transparence\\discogs_project\\venv\\lib\\site-packages (from python-dateutil->python3-discogs-client) (1.16.0)\n",
      "Collecting idna<4,>=2.5\n",
      "  Downloading idna-3.3-py3-none-any.whl (61 kB)\n",
      "Collecting charset-normalizer~=2.0.0\n",
      "  Downloading charset_normalizer-2.0.12-py3-none-any.whl (39 kB)\n",
      "Collecting certifi>=2017.4.17\n",
      "  Downloading certifi-2022.5.18.1-py3-none-any.whl (155 kB)\n",
      "Collecting urllib3<1.27,>=1.21.1\n",
      "  Downloading urllib3-1.26.9-py2.py3-none-any.whl (138 kB)\n",
      "Installing collected packages: urllib3, idna, charset-normalizer, certifi, requests, oauthlib, python3-discogs-client\n",
      "Successfully installed certifi-2022.5.18.1 charset-normalizer-2.0.12 idna-3.3 oauthlib-3.2.0 python3-discogs-client-2.3.14 requests-2.27.1 urllib3-1.26.9\n"
     ]
    },
    {
     "name": "stderr",
     "output_type": "stream",
     "text": [
      "WARNING: You are using pip version 21.1.2; however, version 22.1.2 is available.\n",
      "You should consider upgrading via the 'c:\\users\\river\\documents\\transparence\\discogs_project\\venv\\scripts\\python.exe -m pip install --upgrade pip' command.\n"
     ]
    }
   ],
   "source": [
    "pip install python3-discogs-client\n",
    "# or pip3 install python3-discogs-client"
   ]
  },
  {
   "cell_type": "code",
   "execution_count": 1,
   "metadata": {
    "collapsed": false,
    "pycharm": {
     "name": "#%%\n"
    }
   },
   "outputs": [],
   "source": [
    "import discogs_client"
   ]
  },
  {
   "cell_type": "code",
   "execution_count": 111,
   "metadata": {
    "pycharm": {
     "name": "#%%\n"
    }
   },
   "outputs": [],
   "source": [
    "# Replace the following user string and user_token first\n",
    "# https://python3-discogs-client.readthedocs.io/en/latest/authentication.html\n",
    "# ^ Check it and register an account on Discogs.com\n",
    "d = discogs_client.Client('Your arbitrary user string here', user_token='your user token here')"
   ]
  },
  {
   "cell_type": "code",
   "execution_count": 48,
   "metadata": {
    "collapsed": false,
    "pycharm": {
     "name": "#%%\n"
    }
   },
   "outputs": [],
   "source": [
    "class MyTrack:\n",
    "    \"\"\"\n",
    "    One Instance represents one row in the final excel table.\n",
    "    \"\"\"\n",
    "    def __init__(self, title, album):\n",
    "        self.title = title\n",
    "        self.track_artist = set()\n",
    "        self.album = album\n",
    "        self.labels = set()\n",
    "        self.release_year = set()\n",
    "        self.instruments = set()\n",
    "        self.genre = set()\n",
    "        self.format = set()\n",
    "        self.countries_of_release = set()\n",
    "        self.catalog_numbers = set()\n",
    "        self.requires_manual_check = False"
   ]
  },
  {
   "cell_type": "code",
   "execution_count": 95,
   "metadata": {
    "collapsed": false,
    "pycharm": {
     "name": "#%%\n"
    }
   },
   "outputs": [],
   "source": [
    "# 108475 is the artist id for Greg Phillinganes.\n",
    "greg = d.artist(108475)\n",
    "# All the releases/masters related to Greg Phillinganes.\n",
    "greg_rel = greg.releases\n",
    "# The release list can be paginated\n",
    "greg_rel_page1 = greg_rel.page(0)\n",
    "greg_rel_page5 = greg_rel.page(5)\n"
   ]
  },
  {
   "cell_type": "code",
   "execution_count": 115,
   "metadata": {
    "collapsed": false,
    "pycharm": {
     "name": "#%%\n"
    }
   },
   "outputs": [
    {
     "name": "stdout",
     "output_type": "stream",
     "text": [
      "['Girl Talk', 'Maxxed Out ']\n",
      "['Baby, I Do Love You', 'Do It All For Love']\n",
      "[\"Takin' It Up All Night\", \"Takin' It Up All NIght\", \"I Don't Want To Be The One \"]\n",
      "['Girl Talk', 'Baby I Do Love You', 'Takin It Up All Night', 'Forever Now', 'Big Man', 'I Dont Want To Be The One', 'Maxxed Out', 'Do It All For Love', 'The Call', 'Baby, I Do Love You', \"Takin' It Up All Night\", \"I Don't Want To Be The One\"]\n",
      "['Behind The Mask', \"Won't Be Long Now\", \"Playin' With Fire\", 'I Have Dreamed', 'Come As You Are', 'Lazy Nina', 'Signals', 'Countdown To Love', 'Shake It', 'Contdown To Love', 'Bonus Tracks', 'Only You', 'Behind The Mask (12\" Version)', 'Playin\\' With Fire (12\" Version)', 'Behind The Mask (Instrumental Version)', \"Playin' With Fire (Instrumental Version)\", 'Behind The Mask (Single Version)', 'Behind The Mask (12\" Ver.)', 'Playin\\' With Fire (12\" Ver.)', 'Behind The Mask (Instrumental Ver.)', \"Playin' With Fire (Instrumental Ver.)\", 'Behind The Mask (Single Ver.)']\n",
      "(['Lazy Nina', 'Only You'], True)\n",
      "(['Countdown To Love', 'Behind The Mask'], True)\n",
      "['Behind The Mask', 'Only You', 'Behind The Mask (Edited Version Of 12\" Remix)', 'Behind The Mask ', 'Behind The Mask (Instrumental)']\n",
      "[\"Playin' With Fire\", \"Playin' With Fire (Instrumental)\", 'Only You']\n",
      "(['Love Fantasy', 'Love Attack', 'One Good Love Is Worth Two In The Bush', 'Baby, I Do Love You', 'Do It All For Love'], True)\n",
      "['Say Yes (Remix)', 'Say Yes (Remix Instrumental)', 'Say Yes (Remix Accapella)']\n",
      "(['Heartbreak Hotel'], False)\n",
      "['Can You Feel It', 'Lovely One', 'Your Ways', 'Everybody', 'Heartbreak Hotel', 'Time Waits For No One', 'Walk Right Now', 'Give It Up', 'Wondering Who', 'Program 1', 'Program 2', 'You Can Feel It', 'Puedes Sentirlo (Can You Feel It)', 'Amorosa (Lovely One)', 'Tus Modos (Your Ways)', 'Todos (Everybody)', 'Hotel De Los Corazones Destrozados (Heartbreak Hotel)', 'El Tiempo No Espera Por Nadie (Time Waits For No One)', 'Camina Ahora (Walk Right Now)', 'Abandonado (Give It Up)', 'Adivinando Quien (Wondering Who)', \"Your Way's\", 'This Place Hotel', 'Bonus Tracks', 'This Place Hotel (AKA Heartbreak Hotel) (Single Version)', 'Walk Right Now (John Luongo Disco Mix)', 'Walk Right Now (John Luongo Instrumental Mix)', 'This Place Hotel (A/K/A Heartbreak Hotel)', 'This Place Hotel (A/K/A Heartbreak Hotel) (Single Version)', 'Walk Right Now (John Luongo Mix)', 'Bonus Tracks:', 'Can You Feel It (Jacksons X MLK Remix)', 'Can You Feel It (Island Remix)', 'Can You Feel It (Kirk Franklin Remix)', 'Can You Feel It (7\" Version)', 'Lovely One (7\" Version)', 'Walk Right Now (7\" Version)', 'Walk Right Now (7\" Version - John Luongo Special Remix)', 'Walk Right Now (12\" Version - John Luongo Disco Mix)', 'Walk Right Now (12\" Version - John Luongo Instrumental Mix)', 'Things I Do For You', 'Can You Feel It (Groovefunkel Remix)', 'Lovely One (Groovefunkel Remix)', 'Your Ways (Groovefunkel Remix)', 'Everybody (Sonic Extension Remix)', 'This Place Hotel aka Heartbreak Hotel (Groovefunkel Remix)', 'Time Waits for No One (Groovefunkel Remix)', 'Walk Right Now (Nick Redux Remix)', 'Give It Up (Nick Deluxe Mix)', 'Wondering Who (Nick Redux)', 'We Love You (30th Anniversary)', 'Can You Feel It (Guide Vocal Demo) | (30th Anniversary)', 'Can You Feel It (Jacksons X MLK Remix )']\n",
      "['Heartbreak Hotel', 'Different Kind Of Lady', 'Things I Do For You', 'Hotel Sentimental = Heartbreak Hotel', 'Las Cosas Que Hago Por Ti = Things I Do For You', 'ハートブレイク・ホテル = Heartbreak Hotel', 'シングス・アイ・ドウ・フォー・ユー = Things I Do For You', 'Heartbreak Hotel (Stereo)', 'Heartbreak Hotel (Mono)', \"She's Out Of My Life\", 'Medley: I Want You Back; ABC; The Love You Save', 'This Place Hotel = ハートブレイク・ホテル', 'Lovely One = マイ・ラブリー・ワン']\n",
      "['Hotel Sentimental = Heartbreak Hotel', 'Adorable = Lovely One']\n",
      "['Countdown To Love']\n",
      "['Private Joy (Extended Version)', 'Private Joy (Instrumental)', 'Private Joy (Bonus Beats Plus Bass)', 'Private Joy']\n",
      "['Private Joy']\n",
      "(['Destiny', 'Blame It On The Boogie', 'Push Me Away', 'Things I Do For You', 'Shake Your Body (Down To The Ground)', 'Bless His Soul', \"All Night Dancin'\", \"That's What You Get For Being Polite\", 'Triumph', 'Can You Feel It', 'Lovely One', 'Your Ways', 'Everybody', 'This Place Hotel', 'Time Waits For No One', 'Walk Right Now', 'Give It Up', 'Wondering Who', 'Victory', 'Torture', 'Wait', 'One More Chance', 'Be Not Always', 'State Of Shock', 'We Can Change The World', 'The Hurt', 'Body'], True)\n",
      "(['Deep Purple', 'Sweet And Lovely', 'Teach Me Tiger', 'Paradise', \"(We'll Always Be) Together\", 'Begin The Beguine', 'Whispering', 'Stardust', 'Tea For Two', \"I'm Confessin' (That I Love You)\", 'The Coldest Night Of The Year', 'I Love How You Love Me', 'All Strung Out', \"You'll Be Needing Me Baby\", \"I Can't Go On Livin' Baby Without You\", \"I'm Fallin' For You\", \"Why Don't You Do Right\"], True)\n",
      "['Can You Feel It']\n",
      "['Blame It On The Boogie', 'Shake Your Body (Down To The Ground)', 'Lovely One', 'This Place Hotel', 'Can You Feel It', 'Walk Right Now']\n",
      "['I Want You Back', 'ABC', 'The Love You Save', \"I'll Be There\", \"Mama's Pearl\", 'Never Can Say Goodbye', 'Sugar Daddy', 'Dancing Machine', \"Lookin' Through The Windows\", 'Doctor My Eyes', \"Ain't No Sunshine\", 'Got To Be There', \"Rockin' Robin\", 'Ben', 'One Day In Your Life', 'Farewell My Summer Love', 'Can You Feel It', 'Blame It On The Boogie', 'Enjoy Yourself', 'Show You The Way To Go', 'Dreamer', \"Even Though You're Gone\", \"Goin' Places\", 'Torture', 'Shake Your Body (Down To The Ground)', 'Lovely One', 'This Place Hotel', 'Walk Right Now', 'State Of Shock', '2300 Jackson Street', \"Nothin' (That Compares 2 U)\", \"Don't Stop 'Til You Get Enough (Live From The 1981 U.S. Tour)\", 'This Place Hotel (AKA Heartbreak Hotel)', 'Disc One', 'Disc Two', 'Heartbreak Hotel', 'Abc', '...', 'Etc...']\n",
      "['To Moja Pieśń', 'Taniec Cieni', 'Skazani Na Ten Czas', 'Śnieżna Kula', 'Spóźniamy Się', 'Niewidziani', 'Tajemnicza Siła', 'Nad Brzegiem Tęczy', 'Doganiaj', 'Każdy Ma Swoją Tajemnicę', 'Wyścig Szczurów', 'Trochę Słabej Woli', 'Za Duża Konkurencja', 'Ballada Populistyczna', 'Breathing You', 'Dancing With Ghosts', 'Za Duż Konkurencja', 'Tajemnica Siła', 'BONUSY', \"Memu Miastu Na Do Widzenia 2004'\", \"Rock'N'Roll Na Dobry Początek\"]\n",
      "['I Want You Back', 'ABC', \"I'll Be There\", 'Got To Be There', 'I Wanna Be Where You Are', 'Ben', 'Dancing Machine (Single Version)', 'Enjoy Yourself', 'Ease On Down The Road', 'You Can\\'t Win (From \"The Wiz\")', 'Shake A Body (Early Demo)', 'Shake Your Body (Down To The Ground)', \"Don't Stop 'Til You Get Enough\", 'Rock With You', 'Off The Wall', \"She's Out Of My Life\", 'Sunset Driver (Demo)', 'Lovely One', 'This Place Hotel', \"Wanna Be Startin' Somethin'\", 'The Girl Is Mine', 'Thriller', 'Beat It', 'Billie Jean', 'P.Y.T. (Pretty Young Thing) (Demo)', 'Someone In The Dark', 'State Of Shock', 'Scared Of The Moon (Demo)', 'We Are The World (Demo)', 'We Are Here To Change The World (From \"Captain EO\")', 'Bad', 'The Way You Make Me Feel', 'Man In The Mirror', \"I Just Can't Stop Loving You\", 'Dirty Diana', 'Smooth Criminal', 'Cheater (Demo)', 'Dangerous (Early Version)', 'Monkey Business', 'Jam', 'Remember The Time', 'Black Or White', 'Who It Is (IHS Mix)', 'Someone Put Your Hand Out', 'You Are Not Alone', 'Stranger In Moscow', 'Childhood (Theme From \"Free Willy 2\")', 'On The Line', 'Blood On The Dance Floor', 'Fall Again (Demo)', 'In The Back', 'Unbreakable', 'You Rock My World', 'Butterflies', 'Beautiful Girl (Demo)', 'The Way You Love Me', \"We've Had Enough\", 'Human Nature', 'I Want You Back / The Love You Save', 'Working Day & Night', 'Will You Be There', 'Heal The World', 'I Wanna Be Where You Are ', 'Rock With You\\t', 'Off The Wall\\t', \"She's Out Of My Life\\t\", 'Sunset Driver (Demo)\\t', 'Beat It\\t', 'P.Y.T. (Pretty Young Thing) (Demo)\\t', 'Some In The Dark', 'We Are Here To Change The World (From \"Captain EO\")\\t', 'Smooth Criminal\\t', 'Cheater (Demo)\\t', 'Monkey Business\\t', 'Jam\\t', 'Remember The Time\\t', 'Black Or White\\t', 'Someone Put Your Hand Out\\t', 'You Are Not Alone\\t', 'Stranger In Moscow\\t', 'Childhood (Theme From \"Free Willy 2\")\\t', 'On The Line\\t', 'Blood On The Dance Floor\\t', 'Fall Again (Demo)\\t', 'In The Back\\t', 'Unbreakable\\t', 'You Rock My World\\t', 'Butterflies\\t', 'Beautiful Girl (Demo)\\t', 'The Way You Love Me\\t', \"We've Had Enough\\t\", \"Wanna Be Startin' Somethin'\\t\", 'Human Nature\\t', \"I Just Can't Stop Loving You\\t\", 'I Want You Back / The Love You Save\\t', \"I'll Be There\\t\", 'Thriller\\t', 'Billie Jean\\t', 'Working Day & Night\\t', 'Will You Be There\\t', 'Heal The World\\t', 'Man In The Mirror\\t', 'Disc One', 'Disc Two', 'Disc Three', 'Disc Four', 'Disc Five: DVD - \"Michael Jackson - Live In Concert In Bucharest: The Dangerous Tour\"', 'Dancing Machine ', \"You Can't Win \", 'Shake Your Body (Early Demo)', 'Shake Your Body ', 'Sunset Driver ', 'Beat', 'P.Y.T. (Pretty Young Thing-Demo Version)', 'Scared Of The Moon', 'We Are Here To Change The World', 'Dangerous', 'Monkeys Business', 'Someone Put Your Hand Out (Edited)', 'Childhood', 'Fall Again ', 'Beautiful Girl', 'CD: The Ultimate Collection', \"You Can't Win\", 'Who Is It (IHS Mix)', 'DVD: Live in Bucharest: The Dangerous Tour', 'Working Day And Night', ' I Want You Back ', ' Got To Be There', 'Dancing Machine', 'Enjoy Yourself ', ' Shake Your Body (Down To The Ground)', \" Don't Stop 'Til You Get Enough\", \"Wanna Be Startin' Something\", 'The Girl Is Mine -', ' Beat It', 'Billie Jean ', 'We Are Here To Change The World (From \"Captain Eo\")', 'Bad ', 'The Way You Make Me Feel ', ' Man In The Mirror', \"I Just Can't Stop Loving You \", 'Dirty Diana ', 'Smooth Criminal ', 'Remember The Time ', 'Black Or White ', 'Who It Is (Ihs Mix)', 'Stranger In Moscow ', ' Unbreakable', 'The Way You Love Me (Demo)', \" We've Had Enough\", 'Michael Jackson Live In Concert In Bucharest: The Dangerous Tour DVD', 'Blame It On The Boogie', 'Another Part of Me', 'One More Chance', \"We Are Here To Change The World (From 'Captain Eo')\", 'Shake Your Body (Down To The Ground) (Single Edit)']\n",
      "['A Song For You', 'When Love Comes To Town', 'I Just Called To Say I Love You']\n",
      "(['Silent Night', 'Song Of Mary (Holy Is The Lord)', 'O, Holy Night', 'Let It Snow', 'I Hear Angels Calling', 'Hark! The Herald Angels Sing', 'Do You Hear What I Hear', 'Away In A Manger', 'O Come, O Come, Emmanuel', 'Song Of Mary (Holy Is The Lord) Instrumental'], True)\n",
      "['You And I', 'Chuva', 'Ocean Drive', 'Baker Street', 'Angelina', 'Memphis', \"That's When You Save Me\", 'Ladyland', \"Shout About Ya'\", 'Nostalgia']\n",
      "['Introduction By Claude Nobs', 'The Good, The Bad And The Ugly', 'Let The Good Times Roll', \"Makin' Whoopee\", \"Moody's Mood\", 'The Television Song', 'Honeysuckle Rose', 'Shiny Stockings', \"I'm Gonna Move To The Outskirts Of Town / In The Heat Of The Night\", 'If I Ever Lose This Heaven', 'Midnight Sun', 'One Mint Julep', \"Goin' To Chicago Blues\", 'My Ship / Summertime', 'Smoke Gets In Your Eyes', 'Almost Like Being In Love', \"Miss Celie's Blues (Sister)\", \"What's Going On\", \"Eyes Of Love (Carol's Theme) / Bluesette\", 'Walking In Space', 'Strawberry Letter 23', 'How Do You Keep The Music Playing', 'The Dude', 'Billie Jean', 'Wall Of Sound', 'Mama Aifambeni', 'State Of Independence', 'Everything Must Change', 'Cool Joe, Mean Joe (Killer Joe)', 'Ai No Corrida', 'Stuff Like That', 'Bonus Feature', \"A Behind The Scenes Look. From Claude's Chalet, Rehearsals, Backstage And More.\"]\n",
      "['Destiny', 'Blame It On The Boogie', 'Push Me Away', 'Things I Do For You', 'Shake Your Body (Down To The Ground)', 'Bless His Soul', \"All Night Dancin'\", \"That's What You Get (For Being Polite)\", 'Blame It On The Boogie (John Luongo Disco Mix)', 'Shake Your Body (Down To The Ground) (John Luongo Disco Mix)', 'Triumph', 'Can You Feel It', 'Lovely One', 'Your Ways', 'Everybody', 'This Place Hotel (A/K/A Heartbreak Hotel)', 'Time Waits For No One', 'Walk Right Now', 'Give It Up', 'Wondering Who', 'This Place Hotel (A/K/A Heartbreak Hotel) (Single Version)', 'Walk Right Now (John Luongo Disco Mix)', 'Walk Right Now (John Luongo Instrumental Mix)', 'Heartbreak Hotel']\n",
      "(['You Gotta Be', 'By The Grace Of God', 'Round And Round', \"You Can't Always Get What You Want\", \"Let 'Em In\", 'Gotta Serve Somebody', 'Vincent', 'A Little Bit Of Love', 'Lean On Me', 'Give It Up', 'My Way', 'Enjoy The Silence'], True)\n",
      "['This Place Hotel', 'Thriller', 'Leave Me Alone']\n",
      "['Can You Feel It', 'Lovely One', 'Your Ways', 'Everybody', 'Heartbreak Hotel', 'Time Waits For No One', 'Walk Right Now', 'Give It Up', 'Wondering Who', 'Program 1', 'Program 2', 'You Can Feel It', 'Puedes Sentirlo (Can You Feel It)', 'Amorosa (Lovely One)', 'Tus Modos (Your Ways)', 'Todos (Everybody)', 'Hotel De Los Corazones Destrozados (Heartbreak Hotel)', 'El Tiempo No Espera Por Nadie (Time Waits For No One)', 'Camina Ahora (Walk Right Now)', 'Abandonado (Give It Up)', 'Adivinando Quien (Wondering Who)', \"Your Way's\", 'This Place Hotel', 'Bonus Tracks', 'This Place Hotel (AKA Heartbreak Hotel) (Single Version)', 'Walk Right Now (John Luongo Disco Mix)', 'Walk Right Now (John Luongo Instrumental Mix)', 'This Place Hotel (A/K/A Heartbreak Hotel)', 'This Place Hotel (A/K/A Heartbreak Hotel) (Single Version)', 'Walk Right Now (John Luongo Mix)', 'Bonus Tracks:', 'Can You Feel It (Jacksons X MLK Remix)', 'Can You Feel It (Island Remix)', 'Can You Feel It (Kirk Franklin Remix)', 'Can You Feel It (7\" Version)', 'Lovely One (7\" Version)', 'Walk Right Now (7\" Version)', 'Walk Right Now (7\" Version - John Luongo Special Remix)', 'Walk Right Now (12\" Version - John Luongo Disco Mix)', 'Walk Right Now (12\" Version - John Luongo Instrumental Mix)', 'Things I Do For You', 'Can You Feel It (Groovefunkel Remix)', 'Lovely One (Groovefunkel Remix)', 'Your Ways (Groovefunkel Remix)', 'Everybody (Sonic Extension Remix)', 'This Place Hotel aka Heartbreak Hotel (Groovefunkel Remix)', 'Time Waits for No One (Groovefunkel Remix)', 'Walk Right Now (Nick Redux Remix)', 'Give It Up (Nick Deluxe Mix)', 'Wondering Who (Nick Redux)', 'We Love You (30th Anniversary)', 'Can You Feel It (Guide Vocal Demo) | (30th Anniversary)', 'Can You Feel It (Jacksons X MLK Remix )']\n",
      "['Lovely One']\n",
      "['Stand Up For Love', 'Angel', \"Love Doesn't Live Here Anymore\"]\n",
      "['Angel']\n",
      "['P.Y.T. (Pretty Young Thing) (Demo)', 'Cheater (Demo)']\n",
      "['A Song For You', 'When Love Comes To Town', 'I Just Called To Say I Love You']\n",
      "[\"Steppin' (Out)\", 'No Hiding Place', \"I Don't Believe You Want To Get Up And Dance (Oops!)\", 'Who Do You Call', 'You Are My High', 'Party Lights', 'The Boys Are Back In Town', \"I Don't Believe You Want To Get Up And Dance (Oops)\", 'Who Do You Call (Pt. 1)', 'Who Do You Call (Pt. 2)', \"I Don't Believe You Want To Get Up And Dance\", \"Steppin'\", \"Pisando (Hacia Afuera) = Steppin' (Out)\", 'Ningun Escondite = No Hiding Place', \"No Creo Que Quieras Salir A Bailar (Oops)= I Don't Believe You Want To Get Up And Dance (Oops!)\", 'A Quien Llamas = Who Do You Call', 'Eres Mi Locura = You Are My High', 'Luces De Fiesta = Party Lights', 'TLos Chicos Estan De Recreso En La Ciudad = he Boys Are Back In Town']\n",
      "(['The Gap Band:', 'Shake', 'You Can Count On Me', 'Open Up Your Mind (Wide)', \"Messin' With My Mind\", 'Baby Baba Boogie', \"I'm In Love\", 'Got To Get Away', 'I Can Sing', 'The Gap Band II:', \"Steppin' (Out)\", 'No Hiding Place', \"I Don't Believe You Want To Get Up And Dance (oops !)\", 'The Gap Band II (Continued):', 'Who Do You Call', 'You Are My High', 'Party Lights', 'The Boys Are Back In Town', 'The Gap Band III:', 'When I Look In Your Eyes', 'Yearning For Your Love', 'Burn Rubber On Me (Why You Wanna Hurt Me)', \"Nothin' Comes To Sleepers\", 'Are You Living', 'Sweet Caroline', \"Humpin'\", 'The Way', 'Gash Gash Gash'], True)\n",
      "['K.Y. And The Curb', 'Sho Nuff Groove', 'The Mase', 'Sweet Mercy', \"When I'm With You (Live Version)\"]\n",
      "['K.Y. And The Curb (Stereo)', 'K.Y. And The Curb (Mono)', 'K.Y. And The Curb', \"When I'm With You (Live Version)\", 'K.Y. And The Curb ']\n",
      "['Vibrations']\n",
      "[\"Love's In Need Of Love Today\", 'Have A Talk With God', 'Village Ghetto Land', 'Contusion', 'Sir Duke', 'I Wish', 'Knocks Me Off My Feet', 'Pastime Paradise', 'Summer Soft', 'Ordinary Pain', \"Isn't She Lovely\", 'Joy Inside My Tears', 'Black Man', 'Ngiculela - Es Una Historia - I Am Singing', \"If It's Magic\", 'As', 'Another Star', \"A Something's Extra Bonus Record\", 'Saturn', 'Ebony Eyes', 'All Day Sucker', \"Easy Goin' Evening (My Mama's Call)\", 'Ngiculela ― Es Una Historia ― I Am Singing', \"It It's Magic\", \"A Something's Extra:\", '-', 'I Am Singing', \"Disco Extra (A Something's Extra Bonus Record)\", \"A Something's Extra\", 'A Something\\'s Extra For \"Songs In The Key Of Life\"', \"A Something's Extra For Songs In The Key Of Life\", 'A Somethings Extra Bonus Record For \"Songs In The Key Of Life\"', \"Easyn Goin' Evening (My Mama's Call)\", 'Pastime Paradies', \"Easy Goin' Evening\", \"Love's In Need\", \"A Something's Extra, Bonus Record\", \"El Amor Necesita Amor Hoy (Love's In Need Of Love Today)\", 'Habla Con Dios (Have A Talk With God)', 'Tierra Del Ghetto (Village Ghetto Land)', 'Ojala - Yo Deseo (I Wish)', 'Me Voltea (Knocks Me Off My Feet)', 'Paraiso De Antaño (Pastime Paradise)', 'Suavidad Del Verano (Summer Soft)', 'Dolor Comun (Ordinary Pain)', \"No Es Encantadora? (Isn't She Lovely)\", 'Alegria Dentro De Mis Lagrimas (Joy Inside My Tears)', 'Hombre Negro (Black Man)', 'Ngiculela - Es Una Historia - Estoy Cantando (I Am Singing)', \"Si Es Magico (If It's Magic)\", 'Tal Como (As)', 'Otra Estrella (Another Star)', 'Saturno (Saturn)', 'Ojos De Ebano (Ebony Eyes)', 'Todo El Dia \"De Arriba\" (All Day Sucker)', \"Tarde Sin Problemas (Easy Goin' Evening (My Mama's Call)\", '\"Love\\'s in Need of Love Today', 'Have a Talk With God', 'Ngiculela – Es Una Historia – I Am Singing', 'Somebody To Love', 'Ngiculela-ds Una Historia - I Am Thinking', \"Easy Goin' Evening (My Mama's Call\", \"A Something's Extra (Bonus Record)\", 'Ordinairy Pain', 'Ngiculela-Es Una Historia - I Am Singing', 'Knocks Me Off My Fee', 'Ngiculela - Es Una Historia I Am Singing', 'Ebony Eyes ', 'Easy Goin’ Evening ', 'Vol. I', 'Vol. II', 'Toy Inside My Tears', \"Easy Goin' Evening (My Mamma's Call)\", \"Easy Goin' Evening(My Mama's Call)\", \"Easy Goin' Evening (My Mams's Call)\", 'Ngiculela - Es Una Historia (I Am Singing)', 'Bonus Record For >>Songs In The Key Of Life<<', 'Volume I', 'Volume II', 'Songs In The Key Of Life, Volume I', 'Songs In The Key Of Life, Volume II', 'Ngiculela—Es Una Historia (I Am Singing)', 'Ngiculella-Es Una Historia (I Am Singing)', 'A Somethings Extra', 'Ngiculela- Es Una Historia- I Am Singing', \"A Something's Extra Bonus\", \"A Something's Extra Bonus Tracks\", 'A Something\\'s Extra for \"Songs In The Key Of Life\"', 'Lastime Paradise', 'Ngiculela - Es - Una Historia - I Am Singing', 'A Something Extra For \"Songs In The Key Of Life', \"A Something's Extra (Bonus Tracks)\", 'Ngiculela-Es Una Historia-I Am Singing', 'Ngicucela ( I Am Singing)', 'Disc One', 'Disc Two', 'Ngiculela-Es Una Historia (I Am Singing)', \"Love'S In Need Of Love Today\", 'Confusion', 'Knocks Me Of My Feet', 'Ordinary Path', 'Day Sucker', 'Loves In Need Of Love Today', 'Kocks Me Off My Feet', 'Ngiculela-es Une Historia-I Am Singing', 'Shoo Be Doo Be Doo Da Day', 'My Cherie Amour', 'Signed Sealed Delivered', ' \\tNgiculela - Es Una Historia - I Am Singing', 'Higher Ground', \"Keep On Runnin'\", \"Love's In Need Of Love Today \", 'Black Man ', 'Ngiculela - Es Una Historia - I Am Singing ', 'Another Star ']\n",
      "['At Last My Search Is Over', 'If I Could Bring Back Yesterday', 'Midnight Flight To Your Love', 'Since I Found Love', 'Happiness', 'Uncle James', 'Tomorrow Child']\n",
      "['Sexasonic', 'Mr. Sin', 'Paradise', 'Good To Me', 'When I Get Back Home', 'Leaving You Is Killing Me', 'To Make You Stay', 'Leave Your Spirit Behind', 'Bye, Bye, Baby', 'Ghetto Penthouse', 'Bonus Tracks', 'Leaving You Is Killing Me (Single Version)', 'Sexasonic (Single Version)']\n",
      "['Erika', 'Let Love Flow For Peace', 'So Long', 'I Heard The Voice Of Music Say', 'Mood I \"L.O.V.E. Love\"', 'Fantasy', \"Don't Overlook The Feelings\", 'Mood II \"Love At First Sight\"', 'Rhythm Of Our Souls', 'Mood III \"Oliver\"', 'Mood 1 \"L.O.V.E. Love\"', 'Don’t Overlook The Feelings', 'Mood 2 \"Love At First Sight\"', 'Mood 3 \"Oliver\"', 'Erika (Extended Mix)']\n",
      "['One To One', \"I Don't Know\", 'Rest Yourself', 'I Too Am Wanting', 'Tiki Tiki Donga', \"Don't Cry\", 'Harmour Love', 'One To One (Reprise)', 'Uno A Uno', 'No Se', 'Des-Cansa', 'Yo Tambien Deseo', 'No Llores', 'Amor En Harmour', 'Uno A Uno (Repet)', 'Rest Yourself (Beg.)', 'Rest Yourself (Con.)', \"Don't Cry (Beg.)\", \"Don't Cry (Con.)\"]\n",
      "['Share It', 'Firesign', 'Vulcan Voyage', 'Love You Like A Brother', \"Ain't Nothing But A Party\", 'Got To Be Something More', 'Baby Feet', 'Funky Reggae', 'Celebrate Your Love', 'Fire Sign']\n",
      "['Let Him In', \"Dancin' To Keep From Cryin'\", 'Walk Softly', 'The Perfect Day', \"This One's For You\", 'Delta Road', 'Lover To Lover', 'Glory, Glory', 'By Your Side', 'Music On My Mind', \"Let Him In / Walk Softly / Dancin' To Keep From Cryin'\", \"Dancin' To Keep From Cryin' (cont.) / This One's For You / Lover To Lover\", 'The Perfect Day / Delta Road / Glory, Glory', 'Glory, Glory (cont.) / By Your Side / Music On My Mind', 'Let Him']\n"
     ]
    }
   ],
   "source": [
    "# Final results will be stored in this dictionary\n",
    "# Key: Each track's title\n",
    "# Value: a MyTrack obj\n",
    "track_dic = {}\n",
    "# Name to be searched\n",
    "artist_name = greg.name\n",
    "# The artist instance\n",
    "artist_obj = greg\n",
    "\n",
    "\n",
    "def create_a_new_mytrack(cur_release, track_entry, is_release_main_artist, is_in_credits, main_release_name):\n",
    "    \"\"\"\n",
    "    Create a new MyTrack instance based on the track_entry in the cur_release.\n",
    "    :param cur_release: current version of the master\n",
    "    :param track_entry: current track to create a new MyTrack instance\n",
    "    :param is_release_main_artist: whether artist_obj is the main artist of cur_release\n",
    "    :param is_in_credits: whether artist_name appears in the \"Credits\" part or not\n",
    "    :param main_release_name: the title of the main_release of the master\n",
    "    :return: title of the new track\n",
    "    \"\"\"\n",
    "    if main_release_name == \"\":\n",
    "        main_release_name = cur_release.title.strip()\n",
    "    new_key = track_entry.title.strip() + \" in \" + main_release_name\n",
    "    track_tmp = MyTrack(track_entry.title, main_release_name)\n",
    "    for artist_entry in cur_release.artists:\n",
    "        track_tmp.track_artist.add(artist_entry.name)\n",
    "    for label_entry in cur_release.labels:\n",
    "        track_tmp.labels.add(label_entry.name)\n",
    "        track_tmp.catalog_numbers.add(label_entry.data['catno'])\n",
    "    track_tmp.release_year.add(cur_release.year)\n",
    "    if is_release_main_artist:\n",
    "        track_tmp.instruments.add(\"Main\")\n",
    "    if is_in_credits:\n",
    "        for extra_artist_entry in cur_release.data['extraartists']:\n",
    "            if extra_artist_entry['name'] == artist_name:\n",
    "                track_tmp.instruments.add(extra_artist_entry['role'])\n",
    "                if extra_artist_entry['tracks'] != \"\":\n",
    "                    track_tmp.requires_manual_check = True\n",
    "                break\n",
    "    track_tmp.genre.update(cur_release.genres)\n",
    "    for format_entry in cur_release.formats:\n",
    "        track_tmp.format.add(format_entry['name'])\n",
    "    track_tmp.countries_of_release.add(cur_release.country)\n",
    "    track_tmp.duration = track_entry.duration\n",
    "    if artist_obj in track_entry.credits:\n",
    "        new_role = \"\"\n",
    "        for ex_artist_entry in track_entry.data['extraartists']:\n",
    "            if ex_artist_entry['name'] == artist_name:\n",
    "                new_role = ex_artist_entry['role']\n",
    "        track_tmp.instruments.add(new_role)\n",
    "    track_dic[new_key] = track_tmp\n",
    "    return track_entry.title\n",
    "\n",
    "\n",
    "def update_a_mytrack(cur_release, track_entry, main_release_name):\n",
    "    \"\"\"\n",
    "    Update an existing MyTrack instance in the track_dic, based on the track_entry in the cur_release.\n",
    "    :param cur_release: current version of the master\n",
    "    :param track_entry: current track to create a new MyTrack instance\n",
    "    :param main_release_name: the title of the main_release of the master\n",
    "    :return: the title of the updated MyTrack instance\n",
    "    \"\"\"\n",
    "    if main_release_name != \"\":\n",
    "        new_key = track_entry.title.strip() + \" in \" + main_release_name\n",
    "    else:\n",
    "        new_key = track_entry.title.strip() + \" in \" + cur_release.title.strip()\n",
    "    track_cur = track_dic.get(new_key)\n",
    "\n",
    "    for label_entry in cur_release.labels:\n",
    "        track_cur.labels.add(label_entry.name)\n",
    "        track_cur.catalog_numbers.add(label_entry.data['catno'])\n",
    "    track_cur.countries_of_release.add(cur_release.country)\n",
    "    track_cur.release_year.add(cur_release.year)\n",
    "    for format_entry in cur_release.formats:\n",
    "        track_cur.format.add(format_entry['name'])\n",
    "    return track_entry.title\n",
    "\n",
    "\n",
    "def check_single_track_credit(cur_release, track_entry, artist_t, is_release_main_artist, is_in_credits, main_release_name):\n",
    "    \"\"\"\n",
    "    If the artist_obj is not the main artist of the release, then check artist_obj's contribution in a single track.\n",
    "    :param cur_release: current version of the master\n",
    "    :param track_entry: current track to create a new MyTrack instance\n",
    "    :param artist_t: artist instance to be found\n",
    "    :param is_release_main_artist: whether artist_obj is the main artist of cur_release\n",
    "    :param is_in_credits: whether artist_name appears in the \"Credits\" part or not\n",
    "    :param main_release_name: the title of the main_release of the master\n",
    "    :return: title of the current track, whether updated\n",
    "    \"\"\"\n",
    "    new_key = track_entry.title.strip() + \" in \" + main_release_name\n",
    "    if artist_t in track_entry.credits:\n",
    "        if new_key in track_dic.keys():\n",
    "            cur_track_title = update_a_mytrack(cur_release, track_entry, main_release_name)\n",
    "        else:\n",
    "            cur_track_title = create_a_new_mytrack(cur_release, track_entry, is_release_main_artist, is_in_credits, main_release_name)\n",
    "        new_role = \"\"\n",
    "        for ex_artist_entry in track_entry.data['extraartists']:\n",
    "            if ex_artist_entry['name'] == artist_name:\n",
    "                new_role = ex_artist_entry['role']\n",
    "        track_dic[new_key].instruments.add(new_role)\n",
    "        return cur_track_title, True\n",
    "    return \"\", False\n",
    "\n",
    "\n",
    "def get_info_by_single_track(cur_release, is_release_main_artist, is_in_credits, track_title_list, main_release_name):\n",
    "    \"\"\"\n",
    "    If the artist_obj is not the main artist of the release, then check artist_obj's contribution track by track.\n",
    "    :param track_title_list: list of created MyTrack instances' titles\n",
    "    :param cur_release: current version of the master\n",
    "    :param is_release_main_artist: whether artist_obj is the main artist of cur_release\n",
    "    :param is_in_credits: whether artist_name appears in the \"Credits\" part or not\n",
    "    :param main_release_name: the title of the main_release of the master\n",
    "    :return: null\n",
    "    \"\"\"\n",
    "    for track_e in cur_release.tracklist:\n",
    "        cur_track_title, is_updated = check_single_track_credit(cur_release, track_e, artist_obj, is_release_main_artist, is_in_credits, main_release_name)\n",
    "        if is_updated:\n",
    "            track_title_list.append(cur_track_title)\n",
    "\n",
    "\n",
    "def get_info_from_release(cur_release, main_release_name):\n",
    "    \"\"\"\n",
    "    Complete data retrieving in one version/release.\n",
    "    :param cur_release: current version of the master\n",
    "    :param main_release_name: the title of the main_release of the master\n",
    "    :return: list of created MyTrack instances' titles, whether current artist is the main artist || current artist appear in \"Credits\"\n",
    "    \"\"\"\n",
    "    is_release_main_artist = False\n",
    "    is_in_credits = False\n",
    "    track_title_list = []\n",
    "    if greg in cur_release.artists:\n",
    "        is_release_main_artist = True\n",
    "    if greg in cur_release.credits:\n",
    "        is_in_credits = True\n",
    "    if is_release_main_artist or is_in_credits:\n",
    "        for track_entry in cur_release.tracklist:\n",
    "            new_key = track_entry.title.strip() + \" in \" + cur_release.title.strip()\n",
    "            if new_key in track_dic.keys():\n",
    "                update_a_mytrack(main_release_tmp, track_entry, main_release_name)\n",
    "            else:\n",
    "                track_title_list.append(create_a_new_mytrack(main_release_tmp, track_entry, is_release_main_artist, is_in_credits, main_release_name))\n",
    "\n",
    "        return track_title_list, True\n",
    "    else:\n",
    "        get_info_by_single_track(cur_release, is_release_main_artist, is_in_credits, track_title_list, main_release_name)\n",
    "        return track_title_list, False\n",
    "\n",
    "def update_from_other_release_version(cur_release, track_title_list, update_all, main_release_name):\n",
    "    \"\"\"\n",
    "    Update MyTrack in versions which are not main_release/version. \n",
    "    :param cur_release: current version of the master\n",
    "    :param track_title_list: list of created MyTrack instances' titles\n",
    "    :param update_all: whether current artist is the main artist || current artist appear in \"Credits\"\n",
    "    :param main_release_name: the title of the main_release of the master\n",
    "    :return: null\n",
    "    \"\"\"\n",
    "    is_release_main_artist = False\n",
    "    is_in_credits = False\n",
    "    if greg in cur_release.artists:\n",
    "        is_release_main_artist = True\n",
    "    if greg in cur_release.credits:\n",
    "        is_in_credits = True\n",
    "    for track_entry in cur_release.tracklist:\n",
    "        if track_entry.title in track_title_list:\n",
    "            # print(track_title_list)\n",
    "            update_a_mytrack(cur_release, track_entry, main_release_name)\n",
    "        elif update_all:\n",
    "            track_title_list.append(create_a_new_mytrack(cur_release, track_entry, is_release_main_artist, is_in_credits, main_release_name))\n",
    "        check_single_track_credit(cur_release, track_entry, artist_obj, is_release_main_artist, is_in_credits, main_release_name)\n",
    "\n",
    "# Main program starts here\n",
    "for cur_rel in greg_rel_page1:\n",
    "    # Each release's type is other master or release\n",
    "    if cur_rel.data[\"type\"] == \"master\":\n",
    "        main_release_tmp = cur_rel.main_release\n",
    "        # We first check the main_release of the master\n",
    "        track_names, should_update_all = get_info_from_release(main_release_tmp, main_release_tmp.title.strip())\n",
    "        # Then we iterate through other versions, mainly to collect new Countries of Release, Catalog #, Year,\n",
    "        for version_entry in cur_rel.versions:\n",
    "            update_from_other_release_version(version_entry, track_names, should_update_all, main_release_tmp.title.strip())\n",
    "    else:\n",
    "        track_names = get_info_from_release(cur_rel, cur_rel.title.strip())\n",
    "    print(track_names)\n"
   ]
  },
  {
   "cell_type": "code",
   "execution_count": null,
   "metadata": {
    "collapsed": false,
    "pycharm": {
     "name": "#%%\n"
    }
   },
   "outputs": [],
   "source": []
  }
 ],
 "metadata": {
  "kernelspec": {
   "display_name": "Python 3 (ipykernel)",
   "language": "python",
   "name": "python3"
  },
  "language_info": {
   "codemirror_mode": {
    "name": "ipython",
    "version": 3
   },
   "file_extension": ".py",
   "mimetype": "text/x-python",
   "name": "python",
   "nbconvert_exporter": "python",
   "pygments_lexer": "ipython3",
   "version": "3.10.2"
  }
 },
 "nbformat": 4,
 "nbformat_minor": 1
}