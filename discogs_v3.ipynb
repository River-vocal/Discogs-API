{
 "cells": [
  {
   "cell_type": "code",
   "execution_count": null,
   "outputs": [],
   "source": [
    "pip install python3-discogs-client"
   ],
   "metadata": {
    "collapsed": false,
    "pycharm": {
     "name": "#%%\n"
    }
   }
  },
  {
   "cell_type": "code",
   "execution_count": 1,
   "outputs": [],
   "source": [
    "import discogs_client\n",
    "import time"
   ],
   "metadata": {
    "collapsed": false,
    "pycharm": {
     "name": "#%%\n"
    }
   }
  },
  {
   "cell_type": "code",
   "execution_count": 2,
   "outputs": [],
   "source": [
    "d = discogs_client.Client('your_name_string', user_token='your_token')"
   ],
   "metadata": {
    "collapsed": false,
    "pycharm": {
     "name": "#%%\n"
    }
   }
  },
  {
   "cell_type": "code",
   "execution_count": 3,
   "outputs": [],
   "source": [
    "# 108475 is the artist id for Greg Phillinganes.\n",
    "greg = d.artist(108475)\n",
    "# All the releases/masters related to Greg Phillinganes.\n",
    "greg_rel = greg.releases\n",
    "# The release list can be paginated, 22 pages in total.\n",
    "greg_rel_page0 = greg_rel.page(0)\n",
    "greg_rel_page1 = greg_rel.page(1)\n",
    "greg_rel_page2 = greg_rel.page(2)\n",
    "greg_rel_page3 = greg_rel.page(3)\n",
    "greg_rel_page4 = greg_rel.page(4)\n",
    "greg_rel_page5 = greg_rel.page(5)"
   ],
   "metadata": {
    "collapsed": false,
    "pycharm": {
     "name": "#%%\n"
    }
   }
  },
  {
   "cell_type": "code",
   "execution_count": null,
   "outputs": [],
   "source": [
    "def copy_data(rel_entry):\n",
    "    # We need the following line to force the program to copy all the data of the release.\n",
    "    # Without it, the size of the resultant dict will be only 12. This is the most painful part.\n",
    "    dum = rel_entry.url\n",
    "    # Set the time value to 0.95 or larger, if received \"too many requests\" error from server.\n",
    "    time.sleep(0.9)\n",
    "    return rel_entry.data\n",
    "\n",
    "start_time = time.time()\n",
    "master_list = []\n",
    "# greg_rel is the whole list, with 21 pages.\n",
    "for cur_rel in greg_rel:\n",
    "    version_list = []\n",
    "    # Each release's type is either master or release\n",
    "    if cur_rel.data[\"type\"] == \"master\":\n",
    "        for rel_entry in cur_rel.versions:\n",
    "            version_list.append(copy_data(rel_entry))\n",
    "    else:\n",
    "        version_list.append(copy_data(cur_rel))\n",
    "    print(cur_rel.title)\n",
    "    master_list.append(version_list)\n",
    "end_time = time.time()\n",
    "print(end_time - start_time)\n",
    "\n",
    "# Each entry of the master_list is a version_list.\n",
    "# A version_list contains every version of a master release.\n",
    "# Each entry of the version_list is a dict containing everything of a version(release/album).\n",
    "# All versions -> version_list -> master_list."
   ],
   "metadata": {
    "collapsed": false,
    "pycharm": {
     "name": "#%%\n"
    }
   }
  }
 ],
 "metadata": {
  "kernelspec": {
   "display_name": "Python 3",
   "language": "python",
   "name": "python3"
  },
  "language_info": {
   "codemirror_mode": {
    "name": "ipython",
    "version": 2
   },
   "file_extension": ".py",
   "mimetype": "text/x-python",
   "name": "python",
   "nbconvert_exporter": "python",
   "pygments_lexer": "ipython2",
   "version": "2.7.6"
  }
 },
 "nbformat": 4,
 "nbformat_minor": 0
}